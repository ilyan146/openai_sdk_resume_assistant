{
 "cells": [
  {
   "metadata": {
    "ExecuteTime": {
     "end_time": "2025-10-19T15:08:11.568325Z",
     "start_time": "2025-10-19T15:08:11.537978Z"
    }
   },
   "cell_type": "code",
   "source": [
    "from langchain_community.document_loaders.generic import GenericLoader\n",
    "from pathlib import Path\n",
    "from langchain_text_splitters import RecursiveCharacterTextSplitter"
   ],
   "id": "53d2dcd66aa4e285",
   "outputs": [],
   "execution_count": 22
  },
  {
   "metadata": {
    "ExecuteTime": {
     "end_time": "2025-10-19T15:08:44.220659Z",
     "start_time": "2025-10-19T15:08:44.216847Z"
    }
   },
   "cell_type": "code",
   "source": "dir = Path(\"../data\")",
   "id": "80d361111e2b9842",
   "outputs": [],
   "execution_count": 26
  },
  {
   "metadata": {
    "ExecuteTime": {
     "end_time": "2025-10-19T15:08:44.437415Z",
     "start_time": "2025-10-19T15:08:44.412093Z"
    }
   },
   "cell_type": "code",
   "source": [
    "loader = GenericLoader.from_filesystem(str(dir), glob=\"**/*.txt\")\n",
    "docs = loader.load()\n",
    "print(docs)"
   ],
   "id": "605e7ed3b009de6a",
   "outputs": [
    {
     "name": "stdout",
     "output_type": "stream",
     "text": [
      "[Document(metadata={'source': '..\\\\data\\\\more_ilyan.txt'}, page_content='Ilyan — Professional & Personal Summary\\n\\nName: Ilyan\\n\\nCore Interests:\\n- AI engineering and prototyping\\n- Research-driven physical training for strength and longevity\\n- Reading philosophy and critical thinking\\n- Listening to technical and data-science podcasts\\n\\nHobbies & Activities:\\n- Podcasts:\\n  - The Pragmatic Engineer\\n  - SuperDataScience\\n  - Additional technical and long-form interview shows\\n- Reading:\\n  - Philosophy (classical and modern thinkers)\\n  - Literature (classical novels and deep-dive nonfiction)\\n- Fitness & Wellness:\\n  - Regular, research-based exercise programs focused on mental and physical resilience\\n  - Emphasis on longevity, functional strength, and recovery practices\\n\\nAI Work & Approach:\\n- Enjoy building AI projects end-to-end, from quick proofs-of-concept (POC) to production-grade prototypes.\\n- Use agentic frameworks to rapidly POC and demo ideas.\\n- When appropriate, iterate into tailored, production-ready personal AI solutions that align with company scope and requirements.\\n- Focus areas: rapid experimentation, modular design, and feature refinement for real-world use.\\n\\nWorking Style:\\n- Structured, evidence-driven, and practical.\\n- Prioritize clear demos and fast validation cycles before deep implementation.\\n- Balance creative exploration with disciplined engineering and measurable outcomes.\\n\\nContact / Notes:\\n- Open to collaboration on AI research, prototyping, and fitness/health technology projects.\\n- Prefers concise requirements and iterative feedback loops for fast, practical results.\\n'), Document(metadata={'source': '..\\\\data\\\\sample.txt'}, page_content='Hey My name is Jacob and I am 79 years old.\\nI like to read books and work on software projects.\\n\\nMy favorite sport is Baseketball.\\n\\n## My experience\\nI have worked as a software engineer for the past 40 years.\\n\\n\\n## My stack\\n- JavaScript\\n- Python\\n- Databricks\\n- SQL\\n- NoSQL\\n- Snoflake')]\n"
     ]
    }
   ],
   "execution_count": 27
  },
  {
   "metadata": {
    "ExecuteTime": {
     "end_time": "2025-10-19T15:08:49.259344Z",
     "start_time": "2025-10-19T15:08:49.250068Z"
    }
   },
   "cell_type": "code",
   "source": [
    "text_splitter = RecursiveCharacterTextSplitter(\n",
    "            chunk_size = 100,\n",
    "            chunk_overlap = 50,\n",
    "            separators = [\"\\n\\n\", \"\\n\", \" \", \"\"]\n",
    ")\n",
    "chunks = text_splitter.split_documents(docs)\n",
    "print(f\"Number of chunks: {len(chunks)}\")"
   ],
   "id": "d71bd902e925f260",
   "outputs": [
    {
     "name": "stdout",
     "output_type": "stream",
     "text": [
      "Number of chunks: 27\n"
     ]
    }
   ],
   "execution_count": 28
  },
  {
   "metadata": {
    "ExecuteTime": {
     "end_time": "2025-10-19T15:09:04.440452Z",
     "start_time": "2025-10-19T15:09:04.430979Z"
    }
   },
   "cell_type": "code",
   "source": "chunks[15].page_content",
   "id": "ce49865b9d61d2d9",
   "outputs": [
    {
     "data": {
      "text/plain": [
       "'personal AI solutions that align with company scope and requirements.'"
      ]
     },
     "execution_count": 30,
     "metadata": {},
     "output_type": "execute_result"
    }
   ],
   "execution_count": 30
  },
  {
   "metadata": {
    "ExecuteTime": {
     "end_time": "2025-10-19T15:09:08.119590Z",
     "start_time": "2025-10-19T15:09:08.112643Z"
    }
   },
   "cell_type": "code",
   "source": "chunks[0]",
   "id": "66d46a2484695c0a",
   "outputs": [
    {
     "data": {
      "text/plain": [
       "Document(metadata={'source': '..\\\\data\\\\more_ilyan.txt'}, page_content='Ilyan — Professional & Personal Summary\\n\\nName: Ilyan')"
      ]
     },
     "execution_count": 31,
     "metadata": {},
     "output_type": "execute_result"
    }
   ],
   "execution_count": 31
  },
  {
   "metadata": {},
   "cell_type": "code",
   "outputs": [],
   "execution_count": null,
   "source": "",
   "id": "6069364678441089"
  }
 ],
 "metadata": {
  "kernelspec": {
   "name": "python3",
   "language": "python",
   "display_name": "Python 3 (ipykernel)"
  }
 },
 "nbformat": 4,
 "nbformat_minor": 5
}
