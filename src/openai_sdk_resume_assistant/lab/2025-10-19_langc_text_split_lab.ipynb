{
 "cells": [
  {
   "metadata": {
    "ExecuteTime": {
     "end_time": "2025-10-19T14:17:57.346274Z",
     "start_time": "2025-10-19T14:17:57.343303Z"
    }
   },
   "cell_type": "code",
   "source": [
    "from langchain_community.document_loaders.generic import GenericLoader\n",
    "from pathlib import Path\n",
    "from langchain_text_splitters import RecursiveCharacterTextSplitter"
   ],
   "id": "53d2dcd66aa4e285",
   "outputs": [],
   "execution_count": 7
  },
  {
   "metadata": {
    "ExecuteTime": {
     "end_time": "2025-10-19T14:17:32.427055Z",
     "start_time": "2025-10-19T14:17:32.423516Z"
    }
   },
   "cell_type": "code",
   "source": "dir = Path(\"../data/sample.txt\")",
   "id": "80d361111e2b9842",
   "outputs": [],
   "execution_count": 5
  },
  {
   "metadata": {
    "ExecuteTime": {
     "end_time": "2025-10-19T14:17:32.684984Z",
     "start_time": "2025-10-19T14:17:32.642332Z"
    }
   },
   "cell_type": "code",
   "source": [
    "loader = GenericLoader.from_filesystem(str(dir), glob=\"**/*.txt\")\n",
    "docs = loader.load()\n",
    "print(docs)"
   ],
   "id": "605e7ed3b009de6a",
   "outputs": [
    {
     "name": "stdout",
     "output_type": "stream",
     "text": [
      "[Document(metadata={'source': '..\\\\data\\\\sample.txt'}, page_content='Hey My name is Jacob and I am 79 years old.\\nI like to read books and work on software projects.\\n\\nMy favorite sport is Baseketball.\\n\\n## My experience\\nI have worked as a software engineer for the past 40 years.\\n\\n\\n## My stack\\n- JavaScript\\n- Python\\n- Databricks\\n- SQL\\n- NoSQL\\n- Snoflake')]\n"
     ]
    }
   ],
   "execution_count": 6
  },
  {
   "metadata": {
    "ExecuteTime": {
     "end_time": "2025-10-19T14:20:02.119123Z",
     "start_time": "2025-10-19T14:20:02.111824Z"
    }
   },
   "cell_type": "code",
   "source": [
    "text_splitter = RecursiveCharacterTextSplitter(\n",
    "            chunk_size = 100,\n",
    "            chunk_overlap = 50,\n",
    "            separators = [\"\\n\\n\", \"\\n\", \" \", \"\"]\n",
    ")\n",
    "chunks = text_splitter.split_documents(docs)\n",
    "print(f\"Number of chunks: {len(chunks)}\")"
   ],
   "id": "d71bd902e925f260",
   "outputs": [
    {
     "name": "stdout",
     "output_type": "stream",
     "text": [
      "Number of chunks: 4\n"
     ]
    }
   ],
   "execution_count": 13
  },
  {
   "metadata": {
    "ExecuteTime": {
     "end_time": "2025-10-19T14:21:52.002908Z",
     "start_time": "2025-10-19T14:21:51.997726Z"
    }
   },
   "cell_type": "code",
   "source": "chunks[0].page_content",
   "id": "ce49865b9d61d2d9",
   "outputs": [
    {
     "data": {
      "text/plain": [
       "'Hey My name is Jacob and I am 79 years old.\\nI like to read books and work on software projects.'"
      ]
     },
     "execution_count": 16,
     "metadata": {},
     "output_type": "execute_result"
    }
   ],
   "execution_count": 16
  },
  {
   "metadata": {
    "ExecuteTime": {
     "end_time": "2025-10-19T14:23:32.382405Z",
     "start_time": "2025-10-19T14:23:32.377849Z"
    }
   },
   "cell_type": "code",
   "source": "chunks[0]",
   "id": "66d46a2484695c0a",
   "outputs": [
    {
     "data": {
      "text/plain": [
       "Document(metadata={'source': '..\\\\data\\\\sample.txt'}, page_content='Hey My name is Jacob and I am 79 years old.\\nI like to read books and work on software projects.')"
      ]
     },
     "execution_count": 21,
     "metadata": {},
     "output_type": "execute_result"
    }
   ],
   "execution_count": 21
  }
 ],
 "metadata": {
  "kernelspec": {
   "name": "python3",
   "language": "python",
   "display_name": "Python 3 (ipykernel)"
  }
 },
 "nbformat": 4,
 "nbformat_minor": 5
}
