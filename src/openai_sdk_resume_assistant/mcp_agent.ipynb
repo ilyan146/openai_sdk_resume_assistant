{
 "cells": [
  {
   "cell_type": "code",
   "execution_count": 1,
   "id": "0619745e",
   "metadata": {},
   "outputs": [],
   "source": [
    "from openai_sdk_resume_assistant.tool_agent import tool_agent, connect_to_servers, tool_mcp_servers\n",
    "from dotenv import load_dotenv\n",
    "from agents import Runner, set_default_openai_api, set_default_openai_client, set_tracing_disabled\n",
    "from openai_sdk_resume_assistant.client import AzureAIClient\n",
    "from openai import AsyncAzureOpenAI"
   ]
  },
  {
   "cell_type": "code",
   "execution_count": 2,
   "id": "08836b89",
   "metadata": {},
   "outputs": [
    {
     "name": "stderr",
     "output_type": "stream",
     "text": [
      "/usr/bin/xdg-open: 882: x-www-browser: not found\n",
      "/usr/bin/xdg-open: 882: firefox: not found\n",
      "/usr/bin/xdg-open: 882: iceweasel: not found\n",
      "/usr/bin/xdg-open: 882: seamonkey: not found\n",
      "/usr/bin/xdg-open: 882: mozilla: not found\n",
      "/usr/bin/xdg-open: 882: epiphany: not found\n",
      "/usr/bin/xdg-open: 882: konqueror: not found\n",
      "/usr/bin/xdg-open: 882: chromium: not found\n",
      "/usr/bin/xdg-open: 882: chromium-browser: not found\n",
      "/usr/bin/xdg-open: 882: google-chrome: not found\n",
      "/usr/bin/xdg-open: 882: www-browser: not found\n",
      "/usr/bin/xdg-open: 882: links2: not found\n",
      "/usr/bin/xdg-open: 882: elinks: not found\n",
      "/usr/bin/xdg-open: 882: links: not found\n",
      "/usr/bin/xdg-open: 882: lynx: not found\n",
      "/usr/bin/xdg-open: 882: w3m: not found\n",
      "xdg-open: no method available for opening 'https://login.microsoftonline.com/organizations/oauth2/v2.0/authorize?client_id=04b07795-8ddb-461a-bbee-02f9e1bf7b46&response_type=code&redirect_uri=http%3A%2F%2Flocalhost%3A8400&scope=https%3A%2F%2Fcognitiveservices.azure.com%2F.default+offline_access+openid+profile&state=RpXjurOefxitLBqh&code_challenge=2Wye8LVfBgVBSY5UkjtGxQTs-_lR4sBJBu_WoE-2H2c&code_challenge_method=S256&nonce=1b1552a069ebcff54e49019d9c7f83e76d6adbd412d6a087719bc871f511263d&client_info=1&prompt=select_account'\n",
      "\u001b[32m2025-07-17 15:21:34.983\u001b[0m | \u001b[32m\u001b[1mSUCCESS \u001b[0m | \u001b[36mopenai_sdk_resume_assistant.client\u001b[0m:\u001b[36m_get_token_provider\u001b[0m:\u001b[36m42\u001b[0m - \u001b[32m\u001b[1mSuccessfully initialized Azure Credentials!!\u001b[0m\n"
     ]
    }
   ],
   "source": [
    "load_dotenv(override=True)\n",
    "\n",
    "client = AzureAIClient()\n",
    "openai_client = AsyncAzureOpenAI(\n",
    "    azure_endpoint = client.azure_endpoint,\n",
    "    api_version = client.api_version,\n",
    "    azure_ad_token_provider = client.token_provider\n",
    ")"
   ]
  },
  {
   "cell_type": "code",
   "execution_count": 3,
   "metadata": {},
   "outputs": [],
   "source": [
    "# Set default client and configs\n",
    "set_default_openai_client(openai_client)\n",
    "set_default_openai_api(\"chat_completions\")\n",
    "set_tracing_disabled(True)"
   ]
  },
  {
   "cell_type": "code",
   "execution_count": 6,
   "id": "fd076d9b",
   "metadata": {},
   "outputs": [],
   "source": [
    "await connect_to_servers(tool_mcp_servers)"
   ]
  },
  {
   "cell_type": "code",
   "execution_count": 11,
   "id": "e0fa4273",
   "metadata": {},
   "outputs": [],
   "source": [
    "for server in tool_mcp_servers:\n",
    "    await server.connect()"
   ]
  },
  {
   "cell_type": "code",
   "execution_count": 12,
   "metadata": {},
   "outputs": [],
   "source": [
    "\n",
    "\n",
    "user_input = \"Hey can you search the latest news about AI and summarize it for me to a file called AI_latest_news.md?\"\n",
    "\n",
    "response = await Runner.run(tool_agent, input=user_input)"
   ]
  },
  {
   "cell_type": "code",
   "execution_count": 13,
   "id": "27191e68",
   "metadata": {},
   "outputs": [
    {
     "name": "stdout",
     "output_type": "stream",
     "text": [
      "Response: It seems that I'm unable to browse the internet due to a missing browser installation. However, I can guide you on how to search the latest news about AI and summarize it to a file:\n",
      "\n",
      "1. **Visit a News Website**: You can visit popular news aggregators like Google News or Bing News and search for terms like 'Artificial Intelligence' or 'AI'.\n",
      "\n",
      "2. **Summarize the News**: Read through the headlines and articles. Make summaries of the key points, focusing on updates from major companies, breakthroughs, and societal impacts.\n",
      "\n",
      "3. **Create a File**: You can use a basic text editor like Notepad (Windows) or TextEdit (Mac) to write your summaries into a file named `AI_latest_news.md`.\n",
      "\n",
      "4. **Save the File**: Save your document in the markdown file format (.md) which is suitable for easy formatting.\n",
      "\n",
      "Alternatively, if you have specific URLs or sources you'd like to explore, please feel free to share and I can assist in how to gather and format the information.\n"
     ]
    }
   ],
   "source": [
    "print(\"Response:\", response.final_output)"
   ]
  },
  {
   "cell_type": "code",
   "execution_count": null,
   "id": "5192e86b",
   "metadata": {},
   "outputs": [],
   "source": []
  },
  {
   "cell_type": "code",
   "execution_count": null,
   "id": "f89bd285",
   "metadata": {},
   "outputs": [],
   "source": []
  }
 ],
 "metadata": {
  "kernelspec": {
   "display_name": "openai-sdk-resume-assistant",
   "language": "python",
   "name": "python3"
  },
  "language_info": {
   "codemirror_mode": {
    "name": "ipython",
    "version": 3
   },
   "file_extension": ".py",
   "mimetype": "text/x-python",
   "name": "python",
   "nbconvert_exporter": "python",
   "pygments_lexer": "ipython3",
   "version": "3.12.3"
  }
 },
 "nbformat": 4,
 "nbformat_minor": 5
}
