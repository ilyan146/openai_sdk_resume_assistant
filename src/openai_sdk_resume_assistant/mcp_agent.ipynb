{
 "cells": [
  {
   "cell_type": "code",
   "execution_count": 1,
   "id": "0619745e",
   "metadata": {},
   "outputs": [],
   "source": [
    "# from openai_sdk_resume_assistant.tool_agent import tool_agent, connect_to_servers, tool_mcp_servers, params_list\n",
    "from openai_sdk_resume_assistant.tool_agent import get_tool_agent, params_list, get_mcp_servers\n",
    "from dotenv import load_dotenv\n",
    "from agents import Runner, set_default_openai_api, set_default_openai_client, set_tracing_disabled\n",
    "from openai_sdk_resume_assistant.client import AzureAIClient\n",
    "from openai import AsyncAzureOpenAI\n",
    "from agents.mcp import MCPServerStdio"
   ]
  },
  {
   "cell_type": "code",
   "execution_count": 2,
   "id": "08836b89",
   "metadata": {},
   "outputs": [
    {
     "name": "stderr",
     "output_type": "stream",
     "text": [
      "/usr/bin/xdg-open: 882: x-www-browser: not found\n",
      "/usr/bin/xdg-open: 882: firefox: not found\n",
      "/usr/bin/xdg-open: 882: iceweasel: not found\n",
      "/usr/bin/xdg-open: 882: seamonkey: not found\n",
      "/usr/bin/xdg-open: 882: mozilla: not found\n",
      "/usr/bin/xdg-open: 882: epiphany: not found\n",
      "/usr/bin/xdg-open: 882: konqueror: not found\n",
      "/usr/bin/xdg-open: 882: chromium: not found\n",
      "/usr/bin/xdg-open: 882: chromium-browser: not found\n",
      "/usr/bin/xdg-open: 882: google-chrome: not found\n",
      "/usr/bin/xdg-open: 882: www-browser: not found\n",
      "/usr/bin/xdg-open: 882: links2: not found\n",
      "/usr/bin/xdg-open: 882: elinks: not found\n",
      "/usr/bin/xdg-open: 882: links: not found\n",
      "/usr/bin/xdg-open: 882: lynx: not found\n",
      "/usr/bin/xdg-open: 882: w3m: not found\n",
      "xdg-open: no method available for opening 'https://login.microsoftonline.com/organizations/oauth2/v2.0/authorize?client_id=04b07795-8ddb-461a-bbee-02f9e1bf7b46&response_type=code&redirect_uri=http%3A%2F%2Flocalhost%3A8400&scope=https%3A%2F%2Fcognitiveservices.azure.com%2F.default+offline_access+openid+profile&state=jrIiCcGRyQHdzZqv&code_challenge=b5VV1_d8-UVVfmYDImgQ2U2uuAUhUzl1ALEgyyvUxQ4&code_challenge_method=S256&nonce=a3fc6ba10eff98a497d41cd01900eb65e68a92fcc961158e7baf5799ace60ac1&client_info=1&prompt=select_account'\n",
      "\u001b[32m2025-07-18 15:25:41.933\u001b[0m | \u001b[32m\u001b[1mSUCCESS \u001b[0m | \u001b[36mopenai_sdk_resume_assistant.client\u001b[0m:\u001b[36m_get_token_provider\u001b[0m:\u001b[36m42\u001b[0m - \u001b[32m\u001b[1mSuccessfully initialized Azure Credentials!!\u001b[0m\n"
     ]
    }
   ],
   "source": [
    "load_dotenv(override=True)\n",
    "\n",
    "client = AzureAIClient()\n",
    "openai_client = AsyncAzureOpenAI(\n",
    "    azure_endpoint = client.azure_endpoint,\n",
    "    api_version = client.api_version,\n",
    "    azure_ad_token_provider = client.token_provider\n",
    ")"
   ]
  },
  {
   "cell_type": "code",
   "execution_count": 3,
   "metadata": {},
   "outputs": [],
   "source": [
    "# Set default client and configs\n",
    "set_default_openai_client(openai_client)\n",
    "set_default_openai_api(\"chat_completions\")\n",
    "set_tracing_disabled(True)"
   ]
  },
  {
   "cell_type": "code",
   "execution_count": 3,
   "id": "80ad8482",
   "metadata": {},
   "outputs": [],
   "source": [
    "send_email_params = {\"command\": \"uv\", \"args\" : [\"run\", \"agent_tools.py\"]}"
   ]
  },
  {
   "cell_type": "code",
   "execution_count": 4,
   "id": "45bda142",
   "metadata": {},
   "outputs": [
    {
     "data": {
      "text/plain": [
       "[Tool(name='send_email_tool', title=None, description=None, inputSchema={'properties': {'subject': {'title': 'Subject', 'type': 'string'}, 'body': {'title': 'Body', 'type': 'string'}}, 'required': ['subject', 'body'], 'type': 'object'}, outputSchema={'additionalProperties': {'type': 'string'}, 'type': 'object'}, annotations=None, meta=None)]"
      ]
     },
     "execution_count": 4,
     "metadata": {},
     "output_type": "execute_result"
    }
   ],
   "source": [
    "async with MCPServerStdio(params=send_email_params, client_session_timeout_seconds=60) as server:\n",
    "    own_tools = await server.list_tools()\n",
    "\n",
    "own_tools"
   ]
  },
  {
   "cell_type": "code",
   "execution_count": 6,
   "id": "0fdffaad",
   "metadata": {},
   "outputs": [],
   "source": [
    "## Using AsyncExitStack() as stack:\n",
    "from contextlib import AsyncExitStack\n",
    "\n",
    "# mcp_servers  = []\n",
    "async with AsyncExitStack() as stack:\n",
    "    mcp_servers = [await stack.enter_async_context(MCPServerStdio(params=params, client_session_timeout_seconds=60)) for params in params_list]\n"
   ]
  },
  {
   "cell_type": "code",
   "execution_count": 21,
   "id": "aaad8fcd",
   "metadata": {},
   "outputs": [
    {
     "data": {
      "text/plain": [
       "[<agents.mcp.server.MCPServerStdio at 0x7fe3c127a7e0>,\n",
       " <agents.mcp.server.MCPServerStdio at 0x7fe3c0884890>]"
      ]
     },
     "execution_count": 21,
     "metadata": {},
     "output_type": "execute_result"
    }
   ],
   "source": [
    "mcp_servers"
   ]
  },
  {
   "cell_type": "code",
   "execution_count": 4,
   "id": "ea0831b2",
   "metadata": {},
   "outputs": [],
   "source": [
    "user_input = \"Hey can you search the latest news about AI and summarize it for me to a file called AI_latest_news.md?\""
   ]
  },
  {
   "cell_type": "code",
   "execution_count": null,
   "id": "3b2238ca",
   "metadata": {},
   "outputs": [],
   "source": []
  },
  {
   "cell_type": "code",
   "execution_count": 10,
   "id": "d80ed118",
   "metadata": {},
   "outputs": [],
   "source": [
    "\n",
    "async with get_mcp_servers() as servers:\n",
    "    agent = await get_tool_agent(servers)\n",
    "    for server in servers:\n",
    "        await server.connect()\n",
    "    response = await Runner.run(agent, input=user_input)\n"
   ]
  },
  {
   "cell_type": "code",
   "execution_count": 11,
   "id": "fb5ab626",
   "metadata": {},
   "outputs": [
    {
     "name": "stdout",
     "output_type": "stream",
     "text": [
      "Response: It seems that I'm unable to access the web browser to retrieve the latest news directly due to a browser installation issue. However, I can guide you on how to find the latest AI news. You can visit trusted news sites like:\n",
      "\n",
      "- [Google News](https://news.google.com) and search for “Artificial Intelligence.”\n",
      "- [TechCrunch](https://techcrunch.com/tag/artificial-intelligence/)\n",
      "- [Wired](https://www.wired.com/tag/artificial-intelligence/)\n",
      "- [The Verge](https://www.theverge.com/ai-artificial-intelligence)\n",
      "\n",
      "These platforms often have dedicated sections for AI updates. You can then manually summarize the articles and save them to a file named `AI_latest_news.md`. If there's anything else I can assist with, please let me know!\n"
     ]
    }
   ],
   "source": [
    "print(\"Response:\", response.final_output)"
   ]
  },
  {
   "cell_type": "code",
   "execution_count": 4,
   "id": "910f6c88",
   "metadata": {},
   "outputs": [],
   "source": [
    "# Trying form modules\n",
    "# First get the mcp servers running\n",
    "mcp_servers_list = await get_mcp_servers()\n",
    "\n",
    "\n",
    "tool_agent = await get_tool_agent(mcp_servers_list=mcp_servers_list)"
   ]
  },
  {
   "cell_type": "code",
   "execution_count": null,
   "metadata": {},
   "outputs": [],
   "source": [
    "for server in mcp_servers_list:\n",
    "    await server.connect()\n",
    "\n",
    "response = await Runner.run(tool_agent, input=user_input)"
   ]
  },
  {
   "cell_type": "code",
   "execution_count": 7,
   "id": "27191e68",
   "metadata": {},
   "outputs": [
    {
     "name": "stdout",
     "output_type": "stream",
     "text": [
      "Response: It seems that I'm facing an issue with accessing the web browser to fetch the latest news. Unfortunately, I am unable to resolve this at the moment due to system limitations.\n",
      "\n",
      "Is there anything else I can assist you with, maybe another type of task or accessing local files?\n"
     ]
    }
   ],
   "source": [
    "print(\"Response:\", response.final_output)"
   ]
  },
  {
   "cell_type": "code",
   "execution_count": null,
   "id": "5192e86b",
   "metadata": {},
   "outputs": [],
   "source": []
  },
  {
   "cell_type": "code",
   "execution_count": null,
   "id": "f89bd285",
   "metadata": {},
   "outputs": [],
   "source": []
  }
 ],
 "metadata": {
  "kernelspec": {
   "display_name": "openai-sdk-resume-assistant",
   "language": "python",
   "name": "python3"
  },
  "language_info": {
   "codemirror_mode": {
    "name": "ipython",
    "version": 3
   },
   "file_extension": ".py",
   "mimetype": "text/x-python",
   "name": "python",
   "nbconvert_exporter": "python",
   "pygments_lexer": "ipython3",
   "version": "3.12.3"
  }
 },
 "nbformat": 4,
 "nbformat_minor": 5
}
