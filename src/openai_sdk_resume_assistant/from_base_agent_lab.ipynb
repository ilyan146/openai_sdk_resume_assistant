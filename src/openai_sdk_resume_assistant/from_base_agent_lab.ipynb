{
 "cells": [
  {
   "cell_type": "code",
   "id": "72baf1e7",
   "metadata": {
    "ExecuteTime": {
     "end_time": "2025-08-13T17:15:53.619392Z",
     "start_time": "2025-08-13T17:15:27.596955Z"
    }
   },
   "source": [
    "from openai_sdk_resume_assistant.base_agent import AIAgent\n",
    "import os\n",
    "from openai_sdk_resume_assistant.client import AzureAIClient\n",
    "from openai import AsyncAzureOpenAI\n",
    "from dotenv import load_dotenv\n",
    "from agents import set_default_openai_api, set_default_openai_client, set_tracing_disabled"
   ],
   "outputs": [],
   "execution_count": 1
  },
  {
   "cell_type": "code",
   "execution_count": 2,
   "id": "f9d23d64",
   "metadata": {},
   "outputs": [],
   "source": [
    "RESEARCH_AGENT_INSTRUCTIONS = \"\"\"\n",
    "You are a research agent that can use tools for browsing the internet and \n",
    "you can also have access to my file system. \n",
    "You are highly capable to accomplish your tasks independently. \n",
    "This includes accepting all cookies and clicking 'not now' as appropriate to get the content you need. \n",
    "If one website isn't fruitful, try another. \n",
    "Be persistent until you are able to solve your assignment, \n",
    "trying different options and sites are needed.\n",
    "\"\"\""
   ]
  },
  {
   "cell_type": "code",
   "execution_count": 3,
   "id": "ce629620",
   "metadata": {},
   "outputs": [
    {
     "data": {
      "text/plain": [
       "[{'command': 'npx', 'args': ['@playwright/mcp@latest']},\n",
       " {'command': 'npx',\n",
       "  'args': ['-y',\n",
       "   '@modelcontextprotocol/server-filesystem',\n",
       "   '/mnt/c/Users/edan/repos/personal_projects/AI/Agentic_AI_Projects/openai_sdk_resume_assistant/src/openai_sdk_resume_assistant/file_storage']}]"
      ]
     },
     "execution_count": 3,
     "metadata": {},
     "output_type": "execute_result"
    }
   ],
   "source": [
    "# List of params\n",
    "playwright_params = {\"command\": \"npx\", \"args\": [\"@playwright/mcp@latest\"]}\n",
    "\n",
    "file_storage_path = os.path.abspath(os.path.join(os.getcwd(), \"file_storage\"))\n",
    "files_params = {\"command\": \"npx\", \"args\": [\"-y\", \"@modelcontextprotocol/server-filesystem\", file_storage_path]}\n",
    "\n",
    "params_list = [playwright_params, files_params]\n",
    "params_list"
   ]
  },
  {
   "cell_type": "code",
   "execution_count": 4,
   "id": "fe25183f",
   "metadata": {},
   "outputs": [],
   "source": [
    "# Instantiate a new agent from the base agent\n",
    "research_agent = AIAgent(\n",
    "    name=\"ResearchAgent\",\n",
    "    instructions=RESEARCH_AGENT_INSTRUCTIONS,\n",
    "    model=\"gpt-4o\",\n",
    "    mcp_params=params_list,\n",
    ")"
   ]
  },
  {
   "cell_type": "code",
   "execution_count": 5,
   "id": "3a2a7174",
   "metadata": {},
   "outputs": [
    {
     "name": "stderr",
     "output_type": "stream",
     "text": [
      "/usr/bin/xdg-open: 882: x-www-browser: not found\n",
      "/usr/bin/xdg-open: 882: firefox: not found\n",
      "/usr/bin/xdg-open: 882: iceweasel: not found\n",
      "/usr/bin/xdg-open: 882: seamonkey: not found\n",
      "/usr/bin/xdg-open: 882: mozilla: not found\n",
      "/usr/bin/xdg-open: 882: epiphany: not found\n",
      "/usr/bin/xdg-open: 882: konqueror: not found\n",
      "/usr/bin/xdg-open: 882: chromium: not found\n",
      "/usr/bin/xdg-open: 882: chromium-browser: not found\n",
      "/usr/bin/xdg-open: 882: google-chrome: not found\n",
      "/usr/bin/xdg-open: 882: www-browser: not found\n",
      "/usr/bin/xdg-open: 882: links2: not found\n",
      "/usr/bin/xdg-open: 882: elinks: not found\n",
      "/usr/bin/xdg-open: 882: links: not found\n",
      "/usr/bin/xdg-open: 882: lynx: not found\n",
      "/usr/bin/xdg-open: 882: w3m: not found\n",
      "xdg-open: no method available for opening 'https://login.microsoftonline.com/organizations/oauth2/v2.0/authorize?client_id=04b07795-8ddb-461a-bbee-02f9e1bf7b46&response_type=code&redirect_uri=http%3A%2F%2Flocalhost%3A8400&scope=https%3A%2F%2Fcognitiveservices.azure.com%2F.default+offline_access+openid+profile&state=khoJHcMKrNGDsmze&code_challenge=WQ59krTQt3i3JxpM1epS6I5Y312QpwBY8OMncaLW6qk&code_challenge_method=S256&nonce=e2a5f761c3c1d274448fc32dd4a9a1c2f2d980fc18d9dafc5039e8a4ac35170b&client_info=1&prompt=select_account'\n",
      "\u001B[32m2025-07-18 18:45:02.659\u001B[0m | \u001B[32m\u001B[1mSUCCESS \u001B[0m | \u001B[36mopenai_sdk_resume_assistant.client\u001B[0m:\u001B[36m_get_token_provider\u001B[0m:\u001B[36m42\u001B[0m - \u001B[32m\u001B[1mSuccessfully initialized Azure Credentials!!\u001B[0m\n"
     ]
    }
   ],
   "source": [
    "# make available the LLM \n",
    "load_dotenv(override=True)\n",
    "\n",
    "client = AzureAIClient()\n",
    "openai_client = AsyncAzureOpenAI(\n",
    "    azure_endpoint = client.azure_endpoint,\n",
    "    api_version = client.api_version,\n",
    "    azure_ad_token_provider = client.token_provider\n",
    ")\n",
    "# Set default client and configs\n",
    "set_default_openai_client(openai_client)\n",
    "set_default_openai_api(\"chat_completions\")\n",
    "set_tracing_disabled(True)"
   ]
  },
  {
   "cell_type": "code",
   "execution_count": 8,
   "id": "ea4f2593",
   "metadata": {},
   "outputs": [],
   "source": [
    "# Use the new agent\n",
    "user_input = \"I would like to know how to make the best pink pasta recipe. Can you help me find out and write the recipe to the file pink_pasta.md\"\n",
    "anthropic_input = \"Find some relevant information about Anthropic the company and summarize it to the file called Anthropic_update.md\"\n",
    "\n",
    "result = await research_agent.run_agent_with_mcp(user_input=user_input)"
   ]
  },
  {
   "cell_type": "code",
   "execution_count": 9,
   "id": "f1aaa0ed",
   "metadata": {},
   "outputs": [
    {
     "data": {
      "text/plain": [
       "'The pink pasta recipe has been successfully written to the file `pink_pasta.md`. You can find it in the `file_storage` directory. Enjoy making and savoring your delicious pink pasta!'"
      ]
     },
     "execution_count": 9,
     "metadata": {},
     "output_type": "execute_result"
    }
   ],
   "source": [
    "result"
   ]
  },
  {
   "cell_type": "code",
   "execution_count": null,
   "id": "d49bfb8c",
   "metadata": {},
   "outputs": [],
   "source": []
  },
  {
   "cell_type": "code",
   "execution_count": null,
   "id": "c0f92ecf",
   "metadata": {},
   "outputs": [],
   "source": []
  }
 ],
 "metadata": {
  "kernelspec": {
   "display_name": "openai-sdk-resume-assistant",
   "language": "python",
   "name": "python3"
  },
  "language_info": {
   "codemirror_mode": {
    "name": "ipython",
    "version": 3
   },
   "file_extension": ".py",
   "mimetype": "text/x-python",
   "name": "python",
   "nbconvert_exporter": "python",
   "pygments_lexer": "ipython3",
   "version": "3.12.3"
  }
 },
 "nbformat": 4,
 "nbformat_minor": 5
}
