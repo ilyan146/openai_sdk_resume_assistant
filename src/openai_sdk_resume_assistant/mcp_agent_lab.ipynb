{
 "cells": [
  {
   "cell_type": "code",
   "execution_count": 1,
   "id": "0619745e",
   "metadata": {},
   "outputs": [],
   "source": [
    "# from openai_sdk_resume_assistant.tool_agent import tool_agent, connect_to_servers, tool_mcp_servers, params_list\n",
    "from openai_sdk_resume_assistant.tool_agent import get_tool_agent, params_list, get_mcp_servers\n",
    "from dotenv import load_dotenv\n",
    "from agents import Runner, set_default_openai_api, set_default_openai_client, set_tracing_disabled\n",
    "from openai_sdk_resume_assistant.client import AzureAIClient\n",
    "from openai import AsyncAzureOpenAI\n",
    "from agents.mcp import MCPServerStdio"
   ]
  },
  {
   "cell_type": "code",
   "execution_count": 2,
   "id": "08836b89",
   "metadata": {},
   "outputs": [
    {
     "name": "stderr",
     "output_type": "stream",
     "text": [
      "/usr/bin/xdg-open: 882: x-www-browser: not found\n",
      "/usr/bin/xdg-open: 882: firefox: not found\n",
      "/usr/bin/xdg-open: 882: iceweasel: not found\n",
      "/usr/bin/xdg-open: 882: seamonkey: not found\n",
      "/usr/bin/xdg-open: 882: mozilla: not found\n",
      "/usr/bin/xdg-open: 882: epiphany: not found\n",
      "/usr/bin/xdg-open: 882: konqueror: not found\n",
      "/usr/bin/xdg-open: 882: chromium: not found\n",
      "/usr/bin/xdg-open: 882: chromium-browser: not found\n",
      "/usr/bin/xdg-open: 882: google-chrome: not found\n",
      "/usr/bin/xdg-open: 882: www-browser: not found\n",
      "/usr/bin/xdg-open: 882: links2: not found\n",
      "/usr/bin/xdg-open: 882: elinks: not found\n",
      "/usr/bin/xdg-open: 882: links: not found\n",
      "/usr/bin/xdg-open: 882: lynx: not found\n",
      "/usr/bin/xdg-open: 882: w3m: not found\n",
      "xdg-open: no method available for opening 'https://login.microsoftonline.com/organizations/oauth2/v2.0/authorize?client_id=04b07795-8ddb-461a-bbee-02f9e1bf7b46&response_type=code&redirect_uri=http%3A%2F%2Flocalhost%3A8400&scope=https%3A%2F%2Fcognitiveservices.azure.com%2F.default+offline_access+openid+profile&state=OmGPHsijblpYeLtU&code_challenge=VSUSHq_B9zE5GUxote3WyeB2URcsmb8ZZvJJ8O2nBbw&code_challenge_method=S256&nonce=2949aa179565f2f8018600d6af4da46f46012cbaf28136cb429f5c15081b4176&client_info=1&prompt=select_account'\n",
      "\u001b[32m2025-07-18 17:51:17.221\u001b[0m | \u001b[32m\u001b[1mSUCCESS \u001b[0m | \u001b[36mopenai_sdk_resume_assistant.client\u001b[0m:\u001b[36m_get_token_provider\u001b[0m:\u001b[36m42\u001b[0m - \u001b[32m\u001b[1mSuccessfully initialized Azure Credentials!!\u001b[0m\n"
     ]
    }
   ],
   "source": [
    "load_dotenv(override=True)\n",
    "\n",
    "client = AzureAIClient()\n",
    "openai_client = AsyncAzureOpenAI(\n",
    "    azure_endpoint = client.azure_endpoint,\n",
    "    api_version = client.api_version,\n",
    "    azure_ad_token_provider = client.token_provider\n",
    ")"
   ]
  },
  {
   "cell_type": "code",
   "execution_count": 3,
   "metadata": {},
   "outputs": [],
   "source": [
    "# Set default client and configs\n",
    "set_default_openai_client(openai_client)\n",
    "set_default_openai_api(\"chat_completions\")\n",
    "set_tracing_disabled(True)"
   ]
  },
  {
   "cell_type": "code",
   "execution_count": null,
   "id": "80ad8482",
   "metadata": {},
   "outputs": [],
   "source": [
    "send_email_params = {\"command\": \"uv\", \"args\" : [\"run\", \"agent_tools.py\"]}"
   ]
  },
  {
   "cell_type": "code",
   "execution_count": null,
   "id": "45bda142",
   "metadata": {},
   "outputs": [],
   "source": [
    "async with MCPServerStdio(params=send_email_params, client_session_timeout_seconds=60) as server:\n",
    "    own_tools = await server.list_tools()\n",
    "\n",
    "own_tools"
   ]
  },
  {
   "cell_type": "code",
   "execution_count": null,
   "id": "0fdffaad",
   "metadata": {},
   "outputs": [],
   "source": [
    "## Using AsyncExitStack() as stack:\n",
    "from contextlib import AsyncExitStack\n",
    "\n",
    "# mcp_servers  = []\n",
    "async with AsyncExitStack() as stack:\n",
    "    mcp_servers = [await stack.enter_async_context(MCPServerStdio(params=params, client_session_timeout_seconds=60)) for params in params_list]\n"
   ]
  },
  {
   "cell_type": "code",
   "execution_count": null,
   "id": "aaad8fcd",
   "metadata": {},
   "outputs": [],
   "source": [
    "mcp_servers"
   ]
  },
  {
   "cell_type": "markdown",
   "id": "30692f00",
   "metadata": {},
   "source": [
    "### Testing from modules on creating an agent with MCP servers"
   ]
  },
  {
   "cell_type": "code",
   "execution_count": 4,
   "id": "ea0831b2",
   "metadata": {},
   "outputs": [],
   "source": [
    "user_input = \"Hey can you search the latest news about Anthropic the company and summarize it for me to a file called Anthropic_update.md?\""
   ]
  },
  {
   "cell_type": "code",
   "execution_count": null,
   "id": "8580c2d9",
   "metadata": {},
   "outputs": [],
   "source": [
    "from agents import Agent\n",
    "from openai_sdk_resume_assistant.tool_agent import TOOL_AGENT_INSTRUCTIONS\n",
    "from contextlib import AsyncExitStack"
   ]
  },
  {
   "cell_type": "code",
   "execution_count": null,
   "id": "3b2238ca",
   "metadata": {},
   "outputs": [],
   "source": [
    "async with AsyncExitStack() as stack:\n",
    "        tool_mcp_servers = [\n",
    "            await stack.enter_async_context(MCPServerStdio(params=params, client_session_timeout_seconds=60)) for params in params_list\n",
    "            ]\n",
    "        agent = Agent(\n",
    "                name = \"TestAgent\",\n",
    "                model=\"gpt-4o\",\n",
    "                instructions=TOOL_AGENT_INSTRUCTIONS,\n",
    "                mcp_servers=tool_mcp_servers,\n",
    "        )\n",
    "        reponse = await Runner.run(agent, input=user_input)"
   ]
  },
  {
   "cell_type": "code",
   "execution_count": null,
   "id": "bd5e122c",
   "metadata": {},
   "outputs": [],
   "source": [
    "print(f\"Response: {reponse.final_output}\")"
   ]
  },
  {
   "cell_type": "code",
   "execution_count": null,
   "id": "1bcc214f",
   "metadata": {},
   "outputs": [],
   "source": []
  },
  {
   "cell_type": "markdown",
   "id": "c9d23045",
   "metadata": {},
   "source": [
    "### Attempting directly from tool_agent.py"
   ]
  },
  {
   "cell_type": "code",
   "execution_count": 5,
   "id": "590811c6",
   "metadata": {},
   "outputs": [],
   "source": [
    "\n",
    "user_input3 = \"Find some relevant information about Anthropic the company and summarize it to the file called Anthropic_update.md\""
   ]
  },
  {
   "cell_type": "code",
   "execution_count": null,
   "id": "27676497",
   "metadata": {},
   "outputs": [],
   "source": [
    "async with get_mcp_servers() as servers:\n",
    "    agent = await get_tool_agent(servers)\n",
    "\n",
    "    response = await Runner.run(agent, input=user_input3)\n",
    "\n",
    "print(\"Response:\", response.final_output)"
   ]
  },
  {
   "cell_type": "code",
   "execution_count": 7,
   "id": "086b231e",
   "metadata": {},
   "outputs": [
    {
     "data": {
      "text/plain": [
       "[{'command': 'npx', 'args': ['@playwright/mcp@latest']},\n",
       " {'command': 'npx',\n",
       "  'args': ['-y',\n",
       "   '@modelcontextprotocol/server-filesystem',\n",
       "   '/mnt/c/Users/edan/repos/personal_projects/AI/Agentic_AI_Projects/openai_sdk_resume_assistant/src/openai_sdk_resume_assistant/file_storage']}]"
      ]
     },
     "execution_count": 7,
     "metadata": {},
     "output_type": "execute_result"
    }
   ],
   "source": [
    "params_list"
   ]
  },
  {
   "cell_type": "code",
   "execution_count": 8,
   "id": "25a63fd8",
   "metadata": {},
   "outputs": [
    {
     "ename": "TypeError",
     "evalue": "object _AsyncGeneratorContextManager can't be used in 'await' expression",
     "output_type": "error",
     "traceback": [
      "\u001b[31m---------------------------------------------------------------------------\u001b[39m",
      "\u001b[31mTypeError\u001b[39m                                 Traceback (most recent call last)",
      "\u001b[36mCell\u001b[39m\u001b[36m \u001b[39m\u001b[32mIn[8]\u001b[39m\u001b[32m, line 1\u001b[39m\n\u001b[32m----> \u001b[39m\u001b[32m1\u001b[39m mcp_servers = \u001b[38;5;28;01mawait\u001b[39;00m get_mcp_servers()\n\u001b[32m      2\u001b[39m agent = \u001b[38;5;28;01mawait\u001b[39;00m get_tool_agent(mcp_servers)\n\u001b[32m      4\u001b[39m response = \u001b[38;5;28;01mawait\u001b[39;00m Runner.run(agent, \u001b[38;5;28minput\u001b[39m=user_input3)\n",
      "\u001b[31mTypeError\u001b[39m: object _AsyncGeneratorContextManager can't be used in 'await' expression"
     ]
    }
   ],
   "source": [
    "mcp_servers = await get_mcp_servers()\n",
    "agent = await get_tool_agent(mcp_servers)\n",
    "\n",
    "response = await Runner.run(agent, input=user_input3)\n",
    "\n",
    "print(\"Response:\", response.final_output)"
   ]
  },
  {
   "cell_type": "code",
   "execution_count": 12,
   "id": "64bd7db6",
   "metadata": {},
   "outputs": [],
   "source": [
    "from contextlib import AsyncExitStack\n",
    "async with AsyncExitStack() as stack:\n",
    "        tool_mcp_servers = [\n",
    "            await stack.enter_async_context(MCPServerStdio(params=params, client_session_timeout_seconds=60)) for params in params_list\n",
    "            ]\n",
    "        tool_agent = await get_tool_agent(tool_mcp_servers)\n",
    "        response = await Runner.run(tool_agent, input=user_input3)"
   ]
  },
  {
   "cell_type": "code",
   "execution_count": 13,
   "id": "f059ce93",
   "metadata": {},
   "outputs": [
    {
     "name": "stdout",
     "output_type": "stream",
     "text": [
      "Response: The file \"Anthropic_update.md\" already contains a comprehensive summary of the Anthropic company. Here is the information captured in the file:\n",
      "\n",
      "---\n",
      "\n",
      "# Anthropic Company Overview\n",
      "\n",
      "## Brief Summary\n",
      "\n",
      "Anthropic is an AI safety and research company focused on making large-scale AI systems more interpretable, steerable, and robust. Founded by former members of OpenAI, Anthropic aims to address the challenges and ensure safe deployment of AI.\n",
      "\n",
      "## History and Background\n",
      "\n",
      "Anthropic was founded in 2021 by Daniela and Dario Amodei along with several other members who previously worked at OpenAI. The company emphasizes research in AI safety and the development of safety standards.\n",
      "\n",
      "## Key Focus Areas\n",
      "\n",
      "1. **AI Alignment**: Developing AI systems that align with human intentions and safety protocols.\n",
      "2. **Interpretability**: Creating models that can explain their processes and decisions.\n",
      "3. **Robustness**: Ensuring AI systems can perform reliably under various circumstances.\n",
      "\n",
      "## Partnerships and Collaborations\n",
      "\n",
      "Anthropic collaborates with academic institutions and industry partners to further AI development aligned with safety.\n",
      "\n",
      "---\n",
      "\n",
      "This information is summarized based on known data up to October 2023. If there are additional queries or further editing needed for the file, please let me know!\n"
     ]
    }
   ],
   "source": [
    "print(\"Response:\", response.final_output)"
   ]
  },
  {
   "cell_type": "code",
   "execution_count": 14,
   "id": "5192e86b",
   "metadata": {},
   "outputs": [],
   "source": [
    "from contextlib import asynccontextmanager\n",
    "\n",
    "@asynccontextmanager\n",
    "async def mcp_servers_context(params_list):\n",
    "    async with AsyncExitStack() as stack:\n",
    "        servers = [\n",
    "            await stack.enter_async_context(MCPServerStdio(params=params, client_session_timeout_seconds=60))\n",
    "            for params in params_list\n",
    "        ]\n",
    "        yield servers"
   ]
  },
  {
   "cell_type": "code",
   "execution_count": 15,
   "id": "f89bd285",
   "metadata": {},
   "outputs": [],
   "source": [
    "async with mcp_servers_context(params_list) as servers:\n",
    "    agent = await get_tool_agent(servers)\n",
    "    response = await Runner.run(agent, input=user_input3)"
   ]
  },
  {
   "cell_type": "code",
   "execution_count": 17,
   "id": "4ddcd869",
   "metadata": {},
   "outputs": [
    {
     "name": "stdout",
     "output_type": "stream",
     "text": [
      "Response:  I have created a file named `Anthropic_update.md` with a note about the current inability to retrieve updated information about Anthropic due to browser installation issues. You can find this file in the directory `/mnt/c/Users/edan/repos/personal_projects/AI/Agentic_AI_Projects/openai_sdk_resume_assistant/src/openai_sdk_resume_assistant/file_storage`. Please let me know if there is anything else I can assist you with!\n"
     ]
    }
   ],
   "source": [
    "print(\"Response: \", response.final_output)"
   ]
  }
 ],
 "metadata": {
  "kernelspec": {
   "display_name": "openai-sdk-resume-assistant",
   "language": "python",
   "name": "python3"
  },
  "language_info": {
   "codemirror_mode": {
    "name": "ipython",
    "version": 3
   },
   "file_extension": ".py",
   "mimetype": "text/x-python",
   "name": "python",
   "nbconvert_exporter": "python",
   "pygments_lexer": "ipython3",
   "version": "3.12.3"
  }
 },
 "nbformat": 4,
 "nbformat_minor": 5
}
