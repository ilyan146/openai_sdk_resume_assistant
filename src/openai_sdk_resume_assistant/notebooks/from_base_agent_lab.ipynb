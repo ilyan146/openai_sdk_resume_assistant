{
 "cells": [
  {
   "cell_type": "code",
   "id": "72baf1e7",
   "metadata": {
    "ExecuteTime": {
     "end_time": "2025-10-18T13:36:57.380943Z",
     "start_time": "2025-10-18T13:36:54.022322Z"
    }
   },
   "source": [
    "import os\n",
    "\n",
    "from agents import set_default_openai_api, set_default_openai_client, set_tracing_disabled\n",
    "from dotenv import load_dotenv\n",
    "from openai import AsyncAzureOpenAI\n",
    "\n",
    "from src.openai_sdk_resume_assistant.base_agent import AIAgent\n",
    "from src.openai_sdk_resume_assistant.client import AzureAIClient"
   ],
   "outputs": [],
   "execution_count": 1
  },
  {
   "cell_type": "code",
   "id": "f9d23d64",
   "metadata": {
    "ExecuteTime": {
     "end_time": "2025-10-18T13:41:48.559652Z",
     "start_time": "2025-10-18T13:41:48.555421Z"
    }
   },
   "source": [
    "RESEARCH_AGENT_INSTRUCTIONS = \"\"\"\n",
    "You are a research agent that can use tools for browsing the internet and\n",
    "you can also have access to my file system.\n",
    "You are highly capable to accomplish your tasks independently.\n",
    "This includes accepting all cookies and clicking 'not now' as appropriate to get the content you need.\n",
    "If one website isn't fruitful, try another.\n",
    "Be persistent until you are able to solve your assignment,\n",
    "trying different options and sites are needed.\n",
    "\"\"\""
   ],
   "outputs": [],
   "execution_count": 2
  },
  {
   "cell_type": "code",
   "id": "ce629620",
   "metadata": {
    "ExecuteTime": {
     "end_time": "2025-10-18T13:41:48.816495Z",
     "start_time": "2025-10-18T13:41:48.809750Z"
    }
   },
   "source": [
    "# List of params\n",
    "playwright_params = {\"command\": \"npx\", \"args\": [\"@playwright/mcp@latest\"]}\n",
    "\n",
    "file_storage_path = os.path.abspath(os.path.join(os.getcwd(), \"file_storage\"))\n",
    "files_params = {\"command\": \"npx\", \"args\": [\"-y\", \"@modelcontextprotocol/server-filesystem\", file_storage_path]}\n",
    "\n",
    "params_list = [playwright_params, files_params]\n",
    "params_list"
   ],
   "outputs": [
    {
     "data": {
      "text/plain": [
       "[{'command': 'npx', 'args': ['@playwright/mcp@latest']},\n",
       " {'command': 'npx',\n",
       "  'args': ['-y',\n",
       "   '@modelcontextprotocol/server-filesystem',\n",
       "   'C:\\\\Users\\\\edan\\\\repos\\\\personal_projects\\\\AI\\\\Agentic_AI_Projects\\\\openai_sdk_resume_assistant\\\\src\\\\openai_sdk_resume_assistant\\\\notebooks\\\\file_storage']}]"
      ]
     },
     "execution_count": 3,
     "metadata": {},
     "output_type": "execute_result"
    }
   ],
   "execution_count": 3
  },
  {
   "cell_type": "code",
   "id": "fe25183f",
   "metadata": {
    "ExecuteTime": {
     "end_time": "2025-10-18T13:41:49.524794Z",
     "start_time": "2025-10-18T13:41:49.520907Z"
    }
   },
   "source": [
    "# Instantiate a new agent from the base agent\n",
    "research_agent = AIAgent(\n",
    "    name=\"ResearchAgent\",\n",
    "    instructions=RESEARCH_AGENT_INSTRUCTIONS,\n",
    "    model=\"gpt-4o\",\n",
    "    mcp_params=params_list,\n",
    ")"
   ],
   "outputs": [],
   "execution_count": 4
  },
  {
   "cell_type": "code",
   "id": "3a2a7174",
   "metadata": {
    "ExecuteTime": {
     "end_time": "2025-10-18T13:41:55.325002Z",
     "start_time": "2025-10-18T13:41:50.287317Z"
    }
   },
   "source": [
    "# make available the LLM\n",
    "load_dotenv(override=True)\n",
    "\n",
    "client = AzureAIClient()\n",
    "openai_client = AsyncAzureOpenAI(\n",
    "    azure_endpoint=client.azure_endpoint, api_version=client.api_version, azure_ad_token_provider=client.token_provider\n",
    ")\n",
    "# Set default client and configs\n",
    "set_default_openai_client(openai_client)\n",
    "set_default_openai_api(\"chat_completions\")\n",
    "set_tracing_disabled(True)"
   ],
   "outputs": [
    {
     "name": "stderr",
     "output_type": "stream",
     "text": [
      "\u001B[32m2025-10-18 17:41:54.677\u001B[0m | \u001B[32m\u001B[1mSUCCESS \u001B[0m | \u001B[36msrc.openai_sdk_resume_assistant.client\u001B[0m:\u001B[36m_get_token_provider\u001B[0m:\u001B[36m43\u001B[0m - \u001B[32m\u001B[1mSuccessfully initialized Azure Credentials!!\u001B[0m\n"
     ]
    }
   ],
   "execution_count": 5
  },
  {
   "cell_type": "code",
   "id": "ea4f2593",
   "metadata": {
    "ExecuteTime": {
     "end_time": "2025-10-18T13:42:01.247276Z",
     "start_time": "2025-10-18T13:41:59.946633Z"
    }
   },
   "source": [
    "# Use the new agent\n",
    "user_input = \"I would like to know how to make the best pink pasta recipe. Can you help me find out and write the recipe to the file pink_pasta.md\"\n",
    "anthropic_input = (\n",
    "    \"Find some relevant information about Anthropic the company and summarize it to the file called Anthropic_update.md\"\n",
    ")\n",
    "\n",
    "result = await research_agent.run_agent_with_mcp(user_input=user_input)"
   ],
   "outputs": [
    {
     "name": "stderr",
     "output_type": "stream",
     "text": [
      "Error initializing MCP server: fileno\n"
     ]
    },
    {
     "ename": "UnsupportedOperation",
     "evalue": "fileno",
     "output_type": "error",
     "traceback": [
      "\u001B[31m---------------------------------------------------------------------------\u001B[39m",
      "\u001B[31mNotImplementedError\u001B[39m                       Traceback (most recent call last)",
      "\u001B[36mFile \u001B[39m\u001B[32m~\\repos\\personal_projects\\AI\\Agentic_AI_Projects\\openai_sdk_resume_assistant\\.venv\\Lib\\site-packages\\mcp\\os\\win32\\utilities.py:169\u001B[39m, in \u001B[36mcreate_windows_process\u001B[39m\u001B[34m(command, args, env, errlog, cwd)\u001B[39m\n\u001B[32m    167\u001B[39m \u001B[38;5;28;01mtry\u001B[39;00m:\n\u001B[32m    168\u001B[39m     \u001B[38;5;66;03m# First try using anyio with Windows-specific flags to hide console window\u001B[39;00m\n\u001B[32m--> \u001B[39m\u001B[32m169\u001B[39m     process = \u001B[38;5;28;01mawait\u001B[39;00m anyio.open_process(\n\u001B[32m    170\u001B[39m         [command, *args],\n\u001B[32m    171\u001B[39m         env=env,\n\u001B[32m    172\u001B[39m         \u001B[38;5;66;03m# Ensure we don't create console windows for each process\u001B[39;00m\n\u001B[32m    173\u001B[39m         creationflags=subprocess.CREATE_NO_WINDOW  \u001B[38;5;66;03m# type: ignore\u001B[39;00m\n\u001B[32m    174\u001B[39m         \u001B[38;5;28;01mif\u001B[39;00m \u001B[38;5;28mhasattr\u001B[39m(subprocess, \u001B[33m\"\u001B[39m\u001B[33mCREATE_NO_WINDOW\u001B[39m\u001B[33m\"\u001B[39m)\n\u001B[32m    175\u001B[39m         \u001B[38;5;28;01melse\u001B[39;00m \u001B[32m0\u001B[39m,\n\u001B[32m    176\u001B[39m         stderr=errlog,\n\u001B[32m    177\u001B[39m         cwd=cwd,\n\u001B[32m    178\u001B[39m     )\n\u001B[32m    179\u001B[39m \u001B[38;5;28;01mexcept\u001B[39;00m \u001B[38;5;167;01mNotImplementedError\u001B[39;00m:\n\u001B[32m    180\u001B[39m     \u001B[38;5;66;03m# If Windows doesn't support async subprocess creation, use fallback\u001B[39;00m\n",
      "\u001B[36mFile \u001B[39m\u001B[32m~\\repos\\personal_projects\\AI\\Agentic_AI_Projects\\openai_sdk_resume_assistant\\.venv\\Lib\\site-packages\\anyio\\_core\\_subprocesses.py:190\u001B[39m, in \u001B[36mopen_process\u001B[39m\u001B[34m(command, stdin, stdout, stderr, cwd, env, startupinfo, creationflags, start_new_session, pass_fds, user, group, extra_groups, umask)\u001B[39m\n\u001B[32m    188\u001B[39m     kwargs[\u001B[33m\"\u001B[39m\u001B[33mumask\u001B[39m\u001B[33m\"\u001B[39m] = umask\n\u001B[32m--> \u001B[39m\u001B[32m190\u001B[39m \u001B[38;5;28;01mreturn\u001B[39;00m \u001B[38;5;28;01mawait\u001B[39;00m get_async_backend().open_process(\n\u001B[32m    191\u001B[39m     command,\n\u001B[32m    192\u001B[39m     stdin=stdin,\n\u001B[32m    193\u001B[39m     stdout=stdout,\n\u001B[32m    194\u001B[39m     stderr=stderr,\n\u001B[32m    195\u001B[39m     cwd=cwd,\n\u001B[32m    196\u001B[39m     env=env,\n\u001B[32m    197\u001B[39m     startupinfo=startupinfo,\n\u001B[32m    198\u001B[39m     creationflags=creationflags,\n\u001B[32m    199\u001B[39m     start_new_session=start_new_session,\n\u001B[32m    200\u001B[39m     pass_fds=pass_fds,\n\u001B[32m    201\u001B[39m     **kwargs,\n\u001B[32m    202\u001B[39m )\n",
      "\u001B[36mFile \u001B[39m\u001B[32m~\\repos\\personal_projects\\AI\\Agentic_AI_Projects\\openai_sdk_resume_assistant\\.venv\\Lib\\site-packages\\anyio\\_backends\\_asyncio.py:2588\u001B[39m, in \u001B[36mAsyncIOBackend.open_process\u001B[39m\u001B[34m(cls, command, stdin, stdout, stderr, **kwargs)\u001B[39m\n\u001B[32m   2587\u001B[39m \u001B[38;5;28;01melse\u001B[39;00m:\n\u001B[32m-> \u001B[39m\u001B[32m2588\u001B[39m     process = \u001B[38;5;28;01mawait\u001B[39;00m asyncio.create_subprocess_exec(\n\u001B[32m   2589\u001B[39m         *command,\n\u001B[32m   2590\u001B[39m         stdin=stdin,\n\u001B[32m   2591\u001B[39m         stdout=stdout,\n\u001B[32m   2592\u001B[39m         stderr=stderr,\n\u001B[32m   2593\u001B[39m         **kwargs,\n\u001B[32m   2594\u001B[39m     )\n\u001B[32m   2596\u001B[39m stdin_stream = StreamWriterWrapper(process.stdin) \u001B[38;5;28;01mif\u001B[39;00m process.stdin \u001B[38;5;28;01melse\u001B[39;00m \u001B[38;5;28;01mNone\u001B[39;00m\n",
      "\u001B[36mFile \u001B[39m\u001B[32m~\\AppData\\Local\\Programs\\Python\\Python312\\Lib\\asyncio\\subprocess.py:224\u001B[39m, in \u001B[36mcreate_subprocess_exec\u001B[39m\u001B[34m(program, stdin, stdout, stderr, limit, *args, **kwds)\u001B[39m\n\u001B[32m    222\u001B[39m protocol_factory = \u001B[38;5;28;01mlambda\u001B[39;00m: SubprocessStreamProtocol(limit=limit,\n\u001B[32m    223\u001B[39m                                                     loop=loop)\n\u001B[32m--> \u001B[39m\u001B[32m224\u001B[39m transport, protocol = \u001B[38;5;28;01mawait\u001B[39;00m loop.subprocess_exec(\n\u001B[32m    225\u001B[39m     protocol_factory,\n\u001B[32m    226\u001B[39m     program, *args,\n\u001B[32m    227\u001B[39m     stdin=stdin, stdout=stdout,\n\u001B[32m    228\u001B[39m     stderr=stderr, **kwds)\n\u001B[32m    229\u001B[39m \u001B[38;5;28;01mreturn\u001B[39;00m Process(transport, protocol, loop)\n",
      "\u001B[36mFile \u001B[39m\u001B[32m~\\AppData\\Local\\Programs\\Python\\Python312\\Lib\\asyncio\\base_events.py:1743\u001B[39m, in \u001B[36mBaseEventLoop.subprocess_exec\u001B[39m\u001B[34m(self, protocol_factory, program, stdin, stdout, stderr, universal_newlines, shell, bufsize, encoding, errors, text, *args, **kwargs)\u001B[39m\n\u001B[32m   1742\u001B[39m     \u001B[38;5;28mself\u001B[39m._log_subprocess(debug_log, stdin, stdout, stderr)\n\u001B[32m-> \u001B[39m\u001B[32m1743\u001B[39m transport = \u001B[38;5;28;01mawait\u001B[39;00m \u001B[38;5;28mself\u001B[39m._make_subprocess_transport(\n\u001B[32m   1744\u001B[39m     protocol, popen_args, \u001B[38;5;28;01mFalse\u001B[39;00m, stdin, stdout, stderr,\n\u001B[32m   1745\u001B[39m     bufsize, **kwargs)\n\u001B[32m   1746\u001B[39m \u001B[38;5;28;01mif\u001B[39;00m \u001B[38;5;28mself\u001B[39m._debug \u001B[38;5;129;01mand\u001B[39;00m debug_log \u001B[38;5;129;01mis\u001B[39;00m \u001B[38;5;129;01mnot\u001B[39;00m \u001B[38;5;28;01mNone\u001B[39;00m:\n",
      "\u001B[36mFile \u001B[39m\u001B[32m~\\AppData\\Local\\Programs\\Python\\Python312\\Lib\\asyncio\\base_events.py:524\u001B[39m, in \u001B[36mBaseEventLoop._make_subprocess_transport\u001B[39m\u001B[34m(self, protocol, args, shell, stdin, stdout, stderr, bufsize, extra, **kwargs)\u001B[39m\n\u001B[32m    523\u001B[39m \u001B[38;5;250m\u001B[39m\u001B[33;03m\"\"\"Create subprocess transport.\"\"\"\u001B[39;00m\n\u001B[32m--> \u001B[39m\u001B[32m524\u001B[39m \u001B[38;5;28;01mraise\u001B[39;00m \u001B[38;5;167;01mNotImplementedError\u001B[39;00m\n",
      "\u001B[31mNotImplementedError\u001B[39m: ",
      "\nDuring handling of the above exception, another exception occurred:\n",
      "\u001B[31mUnsupportedOperation\u001B[39m                      Traceback (most recent call last)",
      "\u001B[36mFile \u001B[39m\u001B[32m~\\repos\\personal_projects\\AI\\Agentic_AI_Projects\\openai_sdk_resume_assistant\\.venv\\Lib\\site-packages\\mcp\\os\\win32\\utilities.py:209\u001B[39m, in \u001B[36m_create_windows_fallback_process\u001B[39m\u001B[34m(command, args, env, errlog, cwd)\u001B[39m\n\u001B[32m    207\u001B[39m \u001B[38;5;28;01mtry\u001B[39;00m:\n\u001B[32m    208\u001B[39m     \u001B[38;5;66;03m# Try launching with creationflags to avoid opening a new console window\u001B[39;00m\n\u001B[32m--> \u001B[39m\u001B[32m209\u001B[39m     popen_obj = \u001B[43msubprocess\u001B[49m\u001B[43m.\u001B[49m\u001B[43mPopen\u001B[49m\u001B[43m(\u001B[49m\n\u001B[32m    210\u001B[39m \u001B[43m        \u001B[49m\u001B[43m[\u001B[49m\u001B[43mcommand\u001B[49m\u001B[43m,\u001B[49m\u001B[43m \u001B[49m\u001B[43m*\u001B[49m\u001B[43margs\u001B[49m\u001B[43m]\u001B[49m\u001B[43m,\u001B[49m\n\u001B[32m    211\u001B[39m \u001B[43m        \u001B[49m\u001B[43mstdin\u001B[49m\u001B[43m=\u001B[49m\u001B[43msubprocess\u001B[49m\u001B[43m.\u001B[49m\u001B[43mPIPE\u001B[49m\u001B[43m,\u001B[49m\n\u001B[32m    212\u001B[39m \u001B[43m        \u001B[49m\u001B[43mstdout\u001B[49m\u001B[43m=\u001B[49m\u001B[43msubprocess\u001B[49m\u001B[43m.\u001B[49m\u001B[43mPIPE\u001B[49m\u001B[43m,\u001B[49m\n\u001B[32m    213\u001B[39m \u001B[43m        \u001B[49m\u001B[43mstderr\u001B[49m\u001B[43m=\u001B[49m\u001B[43merrlog\u001B[49m\u001B[43m,\u001B[49m\n\u001B[32m    214\u001B[39m \u001B[43m        \u001B[49m\u001B[43menv\u001B[49m\u001B[43m=\u001B[49m\u001B[43menv\u001B[49m\u001B[43m,\u001B[49m\n\u001B[32m    215\u001B[39m \u001B[43m        \u001B[49m\u001B[43mcwd\u001B[49m\u001B[43m=\u001B[49m\u001B[43mcwd\u001B[49m\u001B[43m,\u001B[49m\n\u001B[32m    216\u001B[39m \u001B[43m        \u001B[49m\u001B[43mbufsize\u001B[49m\u001B[43m=\u001B[49m\u001B[32;43m0\u001B[39;49m\u001B[43m,\u001B[49m\u001B[43m  \u001B[49m\u001B[38;5;66;43;03m# Unbuffered output\u001B[39;49;00m\n\u001B[32m    217\u001B[39m \u001B[43m        \u001B[49m\u001B[43mcreationflags\u001B[49m\u001B[43m=\u001B[49m\u001B[38;5;28;43mgetattr\u001B[39;49m\u001B[43m(\u001B[49m\u001B[43msubprocess\u001B[49m\u001B[43m,\u001B[49m\u001B[43m \u001B[49m\u001B[33;43m\"\u001B[39;49m\u001B[33;43mCREATE_NO_WINDOW\u001B[39;49m\u001B[33;43m\"\u001B[39;49m\u001B[43m,\u001B[49m\u001B[43m \u001B[49m\u001B[32;43m0\u001B[39;49m\u001B[43m)\u001B[49m\u001B[43m,\u001B[49m\n\u001B[32m    218\u001B[39m \u001B[43m    \u001B[49m\u001B[43m)\u001B[49m\n\u001B[32m    219\u001B[39m \u001B[38;5;28;01mexcept\u001B[39;00m \u001B[38;5;167;01mException\u001B[39;00m:\n\u001B[32m    220\u001B[39m     \u001B[38;5;66;03m# If creationflags failed, fallback without them\u001B[39;00m\n",
      "\u001B[36mFile \u001B[39m\u001B[32m~\\AppData\\Local\\Programs\\Python\\Python312\\Lib\\subprocess.py:992\u001B[39m, in \u001B[36mPopen.__init__\u001B[39m\u001B[34m(self, args, bufsize, executable, stdin, stdout, stderr, preexec_fn, close_fds, shell, cwd, env, universal_newlines, startupinfo, creationflags, restore_signals, start_new_session, pass_fds, user, group, extra_groups, encoding, errors, text, umask, pipesize, process_group)\u001B[39m\n\u001B[32m    975\u001B[39m \u001B[38;5;66;03m# Input and output objects. The general principle is like\u001B[39;00m\n\u001B[32m    976\u001B[39m \u001B[38;5;66;03m# this:\u001B[39;00m\n\u001B[32m    977\u001B[39m \u001B[38;5;66;03m#\u001B[39;00m\n\u001B[32m   (...)\u001B[39m\u001B[32m    987\u001B[39m \u001B[38;5;66;03m# are -1 when not using PIPEs. The child objects are -1\u001B[39;00m\n\u001B[32m    988\u001B[39m \u001B[38;5;66;03m# when not redirecting.\u001B[39;00m\n\u001B[32m    990\u001B[39m (p2cread, p2cwrite,\n\u001B[32m    991\u001B[39m  c2pread, c2pwrite,\n\u001B[32m--> \u001B[39m\u001B[32m992\u001B[39m  errread, errwrite) = \u001B[38;5;28;43mself\u001B[39;49m\u001B[43m.\u001B[49m\u001B[43m_get_handles\u001B[49m\u001B[43m(\u001B[49m\u001B[43mstdin\u001B[49m\u001B[43m,\u001B[49m\u001B[43m \u001B[49m\u001B[43mstdout\u001B[49m\u001B[43m,\u001B[49m\u001B[43m \u001B[49m\u001B[43mstderr\u001B[49m\u001B[43m)\u001B[49m\n\u001B[32m    994\u001B[39m \u001B[38;5;66;03m# From here on, raising exceptions may cause file descriptor leakage\u001B[39;00m\n\u001B[32m    995\u001B[39m \n\u001B[32m    996\u001B[39m \u001B[38;5;66;03m# We wrap OS handles *before* launching the child, otherwise a\u001B[39;00m\n\u001B[32m    997\u001B[39m \u001B[38;5;66;03m# quickly terminating child could make our fds unwrappable\u001B[39;00m\n\u001B[32m    998\u001B[39m \u001B[38;5;66;03m# (see #8458).\u001B[39;00m\n",
      "\u001B[36mFile \u001B[39m\u001B[32m~\\AppData\\Local\\Programs\\Python\\Python312\\Lib\\subprocess.py:1406\u001B[39m, in \u001B[36mPopen._get_handles\u001B[39m\u001B[34m(self, stdin, stdout, stderr)\u001B[39m\n\u001B[32m   1404\u001B[39m \u001B[38;5;28;01melse\u001B[39;00m:\n\u001B[32m   1405\u001B[39m     \u001B[38;5;66;03m# Assuming file-like object\u001B[39;00m\n\u001B[32m-> \u001B[39m\u001B[32m1406\u001B[39m     errwrite = msvcrt.get_osfhandle(\u001B[43mstderr\u001B[49m\u001B[43m.\u001B[49m\u001B[43mfileno\u001B[49m\u001B[43m(\u001B[49m\u001B[43m)\u001B[49m)\n\u001B[32m   1407\u001B[39m errwrite = \u001B[38;5;28mself\u001B[39m._make_inheritable(errwrite)\n",
      "\u001B[36mFile \u001B[39m\u001B[32m~\\repos\\personal_projects\\AI\\Agentic_AI_Projects\\openai_sdk_resume_assistant\\.venv\\Lib\\site-packages\\ipykernel\\iostream.py:371\u001B[39m, in \u001B[36mOutStream.fileno\u001B[39m\u001B[34m(self)\u001B[39m\n\u001B[32m    370\u001B[39m msg = \u001B[33m\"\u001B[39m\u001B[33mfileno\u001B[39m\u001B[33m\"\u001B[39m\n\u001B[32m--> \u001B[39m\u001B[32m371\u001B[39m \u001B[38;5;28;01mraise\u001B[39;00m io.UnsupportedOperation(msg)\n",
      "\u001B[31mUnsupportedOperation\u001B[39m: fileno",
      "\nDuring handling of the above exception, another exception occurred:\n",
      "\u001B[31mUnsupportedOperation\u001B[39m                      Traceback (most recent call last)",
      "\u001B[36mCell\u001B[39m\u001B[36m \u001B[39m\u001B[32mIn[6]\u001B[39m\u001B[32m, line 7\u001B[39m\n\u001B[32m      2\u001B[39m user_input = \u001B[33m\"\u001B[39m\u001B[33mI would like to know how to make the best pink pasta recipe. Can you help me find out and write the recipe to the file pink_pasta.md\u001B[39m\u001B[33m\"\u001B[39m\n\u001B[32m      3\u001B[39m anthropic_input = (\n\u001B[32m      4\u001B[39m     \u001B[33m\"\u001B[39m\u001B[33mFind some relevant information about Anthropic the company and summarize it to the file called Anthropic_update.md\u001B[39m\u001B[33m\"\u001B[39m\n\u001B[32m      5\u001B[39m )\n\u001B[32m----> \u001B[39m\u001B[32m7\u001B[39m result = \u001B[38;5;28;01mawait\u001B[39;00m research_agent.run_agent_with_mcp(user_input=user_input)\n",
      "\u001B[36mFile \u001B[39m\u001B[32m~\\repos\\personal_projects\\AI\\Agentic_AI_Projects\\openai_sdk_resume_assistant\\src\\openai_sdk_resume_assistant\\base_agent.py:75\u001B[39m, in \u001B[36mAIAgent.run_agent_with_mcp\u001B[39m\u001B[34m(self, user_input)\u001B[39m\n\u001B[32m     71\u001B[39m \u001B[38;5;28;01masync\u001B[39;00m \u001B[38;5;28;01mdef\u001B[39;00m\u001B[38;5;250m \u001B[39m\u001B[34mrun_agent_with_mcp\u001B[39m(\u001B[38;5;28mself\u001B[39m, user_input: \u001B[38;5;28mstr\u001B[39m):\n\u001B[32m     72\u001B[39m \u001B[38;5;250m    \u001B[39m\u001B[33;03m\"\"\"\u001B[39;00m\n\u001B[32m     73\u001B[39m \u001B[33;03m    Create agents with MCP servers and run with the provided user input\u001B[39;00m\n\u001B[32m     74\u001B[39m \u001B[33;03m    \"\"\"\u001B[39;00m\n\u001B[32m---> \u001B[39m\u001B[32m75\u001B[39m     \u001B[38;5;28;01masync\u001B[39;00m \u001B[38;5;28;01mwith\u001B[39;00m \u001B[38;5;28mself\u001B[39m._get_mcp_servers() \u001B[38;5;28;01mas\u001B[39;00m servers:\n\u001B[32m     76\u001B[39m         active_agent = \u001B[38;5;28;01mawait\u001B[39;00m \u001B[38;5;28mself\u001B[39m._create_agent(servers)\n\u001B[32m     77\u001B[39m         response = \u001B[38;5;28;01mawait\u001B[39;00m Runner.run(active_agent, \u001B[38;5;28minput\u001B[39m=user_input)\n",
      "\u001B[36mFile \u001B[39m\u001B[32m~\\AppData\\Local\\Programs\\Python\\Python312\\Lib\\contextlib.py:210\u001B[39m, in \u001B[36m_AsyncGeneratorContextManager.__aenter__\u001B[39m\u001B[34m(self)\u001B[39m\n\u001B[32m    208\u001B[39m \u001B[38;5;28;01mdel\u001B[39;00m \u001B[38;5;28mself\u001B[39m.args, \u001B[38;5;28mself\u001B[39m.kwds, \u001B[38;5;28mself\u001B[39m.func\n\u001B[32m    209\u001B[39m \u001B[38;5;28;01mtry\u001B[39;00m:\n\u001B[32m--> \u001B[39m\u001B[32m210\u001B[39m     \u001B[38;5;28;01mreturn\u001B[39;00m \u001B[38;5;28;01mawait\u001B[39;00m anext(\u001B[38;5;28mself\u001B[39m.gen)\n\u001B[32m    211\u001B[39m \u001B[38;5;28;01mexcept\u001B[39;00m \u001B[38;5;167;01mStopAsyncIteration\u001B[39;00m:\n\u001B[32m    212\u001B[39m     \u001B[38;5;28;01mraise\u001B[39;00m \u001B[38;5;167;01mRuntimeError\u001B[39;00m(\u001B[33m\"\u001B[39m\u001B[33mgenerator didn\u001B[39m\u001B[33m'\u001B[39m\u001B[33mt yield\u001B[39m\u001B[33m\"\u001B[39m) \u001B[38;5;28;01mfrom\u001B[39;00m\u001B[38;5;250m \u001B[39m\u001B[38;5;28;01mNone\u001B[39;00m\n",
      "\u001B[36mFile \u001B[39m\u001B[32m~\\repos\\personal_projects\\AI\\Agentic_AI_Projects\\openai_sdk_resume_assistant\\src\\openai_sdk_resume_assistant\\base_agent.py:53\u001B[39m, in \u001B[36mAIAgent._get_mcp_servers\u001B[39m\u001B[34m(self)\u001B[39m\n\u001B[32m     49\u001B[39m \u001B[38;5;129m@asynccontextmanager\u001B[39m\n\u001B[32m     50\u001B[39m \u001B[38;5;28;01masync\u001B[39;00m \u001B[38;5;28;01mdef\u001B[39;00m\u001B[38;5;250m \u001B[39m\u001B[34m_get_mcp_servers\u001B[39m(\u001B[38;5;28mself\u001B[39m):  \u001B[38;5;66;03m# -> List[MCPServerStdio]:  # type:ignore\u001B[39;00m\n\u001B[32m     51\u001B[39m     \u001B[38;5;28;01masync\u001B[39;00m \u001B[38;5;28;01mwith\u001B[39;00m AsyncExitStack() \u001B[38;5;28;01mas\u001B[39;00m stack:\n\u001B[32m     52\u001B[39m         tool_mcp_servers = [\n\u001B[32m---> \u001B[39m\u001B[32m53\u001B[39m             \u001B[38;5;28;01mawait\u001B[39;00m stack.enter_async_context(MCPServerStdio(params=params, client_session_timeout_seconds=\u001B[32m60\u001B[39m))  \u001B[38;5;66;03m# type:ignore\u001B[39;00m\n\u001B[32m     54\u001B[39m             \u001B[38;5;28;01mfor\u001B[39;00m params \u001B[38;5;129;01min\u001B[39;00m \u001B[38;5;28mself\u001B[39m.mcp_params_list\n\u001B[32m     55\u001B[39m         ]\n\u001B[32m     56\u001B[39m         \u001B[38;5;28;01myield\u001B[39;00m tool_mcp_servers\n",
      "\u001B[36mFile \u001B[39m\u001B[32m~\\AppData\\Local\\Programs\\Python\\Python312\\Lib\\contextlib.py:659\u001B[39m, in \u001B[36mAsyncExitStack.enter_async_context\u001B[39m\u001B[34m(self, cm)\u001B[39m\n\u001B[32m    655\u001B[39m \u001B[38;5;28;01mexcept\u001B[39;00m \u001B[38;5;167;01mAttributeError\u001B[39;00m:\n\u001B[32m    656\u001B[39m     \u001B[38;5;28;01mraise\u001B[39;00m \u001B[38;5;167;01mTypeError\u001B[39;00m(\u001B[33mf\u001B[39m\u001B[33m\"\u001B[39m\u001B[33m'\u001B[39m\u001B[38;5;132;01m{\u001B[39;00m\u001B[38;5;28mcls\u001B[39m.\u001B[34m__module__\u001B[39m\u001B[38;5;132;01m}\u001B[39;00m\u001B[33m.\u001B[39m\u001B[38;5;132;01m{\u001B[39;00m\u001B[38;5;28mcls\u001B[39m.\u001B[34m__qualname__\u001B[39m\u001B[38;5;132;01m}\u001B[39;00m\u001B[33m'\u001B[39m\u001B[33m object does \u001B[39m\u001B[33m\"\u001B[39m\n\u001B[32m    657\u001B[39m                     \u001B[33mf\u001B[39m\u001B[33m\"\u001B[39m\u001B[33mnot support the asynchronous context manager protocol\u001B[39m\u001B[33m\"\u001B[39m\n\u001B[32m    658\u001B[39m                    ) \u001B[38;5;28;01mfrom\u001B[39;00m\u001B[38;5;250m \u001B[39m\u001B[38;5;28;01mNone\u001B[39;00m\n\u001B[32m--> \u001B[39m\u001B[32m659\u001B[39m result = \u001B[38;5;28;01mawait\u001B[39;00m _enter(cm)\n\u001B[32m    660\u001B[39m \u001B[38;5;28mself\u001B[39m._push_async_cm_exit(cm, _exit)\n\u001B[32m    661\u001B[39m \u001B[38;5;28;01mreturn\u001B[39;00m result\n",
      "\u001B[36mFile \u001B[39m\u001B[32m~\\repos\\personal_projects\\AI\\Agentic_AI_Projects\\openai_sdk_resume_assistant\\.venv\\Lib\\site-packages\\agents\\mcp\\server.py:237\u001B[39m, in \u001B[36m_MCPServerWithClientSession.__aenter__\u001B[39m\u001B[34m(self)\u001B[39m\n\u001B[32m    236\u001B[39m \u001B[38;5;28;01masync\u001B[39;00m \u001B[38;5;28;01mdef\u001B[39;00m\u001B[38;5;250m \u001B[39m\u001B[34m__aenter__\u001B[39m(\u001B[38;5;28mself\u001B[39m):\n\u001B[32m--> \u001B[39m\u001B[32m237\u001B[39m     \u001B[38;5;28;01mawait\u001B[39;00m \u001B[38;5;28mself\u001B[39m.connect()\n\u001B[32m    238\u001B[39m     \u001B[38;5;28;01mreturn\u001B[39;00m \u001B[38;5;28mself\u001B[39m\n",
      "\u001B[36mFile \u001B[39m\u001B[32m~\\repos\\personal_projects\\AI\\Agentic_AI_Projects\\openai_sdk_resume_assistant\\.venv\\Lib\\site-packages\\agents\\mcp\\server.py:262\u001B[39m, in \u001B[36m_MCPServerWithClientSession.connect\u001B[39m\u001B[34m(self)\u001B[39m\n\u001B[32m    260\u001B[39m \u001B[38;5;250m\u001B[39m\u001B[33;03m\"\"\"Connect to the server.\"\"\"\u001B[39;00m\n\u001B[32m    261\u001B[39m \u001B[38;5;28;01mtry\u001B[39;00m:\n\u001B[32m--> \u001B[39m\u001B[32m262\u001B[39m     transport = \u001B[38;5;28;01mawait\u001B[39;00m \u001B[38;5;28mself\u001B[39m.exit_stack.enter_async_context(\u001B[38;5;28mself\u001B[39m.create_streams())\n\u001B[32m    263\u001B[39m     \u001B[38;5;66;03m# streamablehttp_client returns (read, write, get_session_id)\u001B[39;00m\n\u001B[32m    264\u001B[39m     \u001B[38;5;66;03m# sse_client returns (read, write)\u001B[39;00m\n\u001B[32m    266\u001B[39m     read, write, *_ = transport\n",
      "\u001B[36mFile \u001B[39m\u001B[32m~\\AppData\\Local\\Programs\\Python\\Python312\\Lib\\contextlib.py:659\u001B[39m, in \u001B[36mAsyncExitStack.enter_async_context\u001B[39m\u001B[34m(self, cm)\u001B[39m\n\u001B[32m    655\u001B[39m \u001B[38;5;28;01mexcept\u001B[39;00m \u001B[38;5;167;01mAttributeError\u001B[39;00m:\n\u001B[32m    656\u001B[39m     \u001B[38;5;28;01mraise\u001B[39;00m \u001B[38;5;167;01mTypeError\u001B[39;00m(\u001B[33mf\u001B[39m\u001B[33m\"\u001B[39m\u001B[33m'\u001B[39m\u001B[38;5;132;01m{\u001B[39;00m\u001B[38;5;28mcls\u001B[39m.\u001B[34m__module__\u001B[39m\u001B[38;5;132;01m}\u001B[39;00m\u001B[33m.\u001B[39m\u001B[38;5;132;01m{\u001B[39;00m\u001B[38;5;28mcls\u001B[39m.\u001B[34m__qualname__\u001B[39m\u001B[38;5;132;01m}\u001B[39;00m\u001B[33m'\u001B[39m\u001B[33m object does \u001B[39m\u001B[33m\"\u001B[39m\n\u001B[32m    657\u001B[39m                     \u001B[33mf\u001B[39m\u001B[33m\"\u001B[39m\u001B[33mnot support the asynchronous context manager protocol\u001B[39m\u001B[33m\"\u001B[39m\n\u001B[32m    658\u001B[39m                    ) \u001B[38;5;28;01mfrom\u001B[39;00m\u001B[38;5;250m \u001B[39m\u001B[38;5;28;01mNone\u001B[39;00m\n\u001B[32m--> \u001B[39m\u001B[32m659\u001B[39m result = \u001B[38;5;28;01mawait\u001B[39;00m _enter(cm)\n\u001B[32m    660\u001B[39m \u001B[38;5;28mself\u001B[39m._push_async_cm_exit(cm, _exit)\n\u001B[32m    661\u001B[39m \u001B[38;5;28;01mreturn\u001B[39;00m result\n",
      "\u001B[36mFile \u001B[39m\u001B[32m~\\AppData\\Local\\Programs\\Python\\Python312\\Lib\\contextlib.py:210\u001B[39m, in \u001B[36m_AsyncGeneratorContextManager.__aenter__\u001B[39m\u001B[34m(self)\u001B[39m\n\u001B[32m    208\u001B[39m \u001B[38;5;28;01mdel\u001B[39;00m \u001B[38;5;28mself\u001B[39m.args, \u001B[38;5;28mself\u001B[39m.kwds, \u001B[38;5;28mself\u001B[39m.func\n\u001B[32m    209\u001B[39m \u001B[38;5;28;01mtry\u001B[39;00m:\n\u001B[32m--> \u001B[39m\u001B[32m210\u001B[39m     \u001B[38;5;28;01mreturn\u001B[39;00m \u001B[38;5;28;01mawait\u001B[39;00m anext(\u001B[38;5;28mself\u001B[39m.gen)\n\u001B[32m    211\u001B[39m \u001B[38;5;28;01mexcept\u001B[39;00m \u001B[38;5;167;01mStopAsyncIteration\u001B[39;00m:\n\u001B[32m    212\u001B[39m     \u001B[38;5;28;01mraise\u001B[39;00m \u001B[38;5;167;01mRuntimeError\u001B[39;00m(\u001B[33m\"\u001B[39m\u001B[33mgenerator didn\u001B[39m\u001B[33m'\u001B[39m\u001B[33mt yield\u001B[39m\u001B[33m\"\u001B[39m) \u001B[38;5;28;01mfrom\u001B[39;00m\u001B[38;5;250m \u001B[39m\u001B[38;5;28;01mNone\u001B[39;00m\n",
      "\u001B[36mFile \u001B[39m\u001B[32m~\\repos\\personal_projects\\AI\\Agentic_AI_Projects\\openai_sdk_resume_assistant\\.venv\\Lib\\site-packages\\mcp\\client\\stdio\\__init__.py:124\u001B[39m, in \u001B[36mstdio_client\u001B[39m\u001B[34m(server, errlog)\u001B[39m\n\u001B[32m    121\u001B[39m     command = _get_executable_command(server.command)\n\u001B[32m    123\u001B[39m     \u001B[38;5;66;03m# Open process with stderr piped for capture\u001B[39;00m\n\u001B[32m--> \u001B[39m\u001B[32m124\u001B[39m     process = \u001B[38;5;28;01mawait\u001B[39;00m _create_platform_compatible_process(\n\u001B[32m    125\u001B[39m         command=command,\n\u001B[32m    126\u001B[39m         args=server.args,\n\u001B[32m    127\u001B[39m         env=({**get_default_environment(), **server.env} \u001B[38;5;28;01mif\u001B[39;00m server.env \u001B[38;5;129;01mis\u001B[39;00m \u001B[38;5;129;01mnot\u001B[39;00m \u001B[38;5;28;01mNone\u001B[39;00m \u001B[38;5;28;01melse\u001B[39;00m get_default_environment()),\n\u001B[32m    128\u001B[39m         errlog=errlog,\n\u001B[32m    129\u001B[39m         cwd=server.cwd,\n\u001B[32m    130\u001B[39m     )\n\u001B[32m    131\u001B[39m \u001B[38;5;28;01mexcept\u001B[39;00m \u001B[38;5;167;01mOSError\u001B[39;00m:\n\u001B[32m    132\u001B[39m     \u001B[38;5;66;03m# Clean up streams if process creation fails\u001B[39;00m\n\u001B[32m    133\u001B[39m     \u001B[38;5;28;01mawait\u001B[39;00m read_stream.aclose()\n",
      "\u001B[36mFile \u001B[39m\u001B[32m~\\repos\\personal_projects\\AI\\Agentic_AI_Projects\\openai_sdk_resume_assistant\\.venv\\Lib\\site-packages\\mcp\\client\\stdio\\__init__.py:249\u001B[39m, in \u001B[36m_create_platform_compatible_process\u001B[39m\u001B[34m(command, args, env, errlog, cwd)\u001B[39m\n\u001B[32m    242\u001B[39m \u001B[38;5;250m\u001B[39m\u001B[33;03m\"\"\"\u001B[39;00m\n\u001B[32m    243\u001B[39m \u001B[33;03mCreates a subprocess in a platform-compatible way.\u001B[39;00m\n\u001B[32m    244\u001B[39m \n\u001B[32m    245\u001B[39m \u001B[33;03mUnix: Creates process in a new session/process group for killpg support\u001B[39;00m\n\u001B[32m    246\u001B[39m \u001B[33;03mWindows: Creates process in a Job Object for reliable child termination\u001B[39;00m\n\u001B[32m    247\u001B[39m \u001B[33;03m\"\"\"\u001B[39;00m\n\u001B[32m    248\u001B[39m \u001B[38;5;28;01mif\u001B[39;00m sys.platform == \u001B[33m\"\u001B[39m\u001B[33mwin32\u001B[39m\u001B[33m\"\u001B[39m:\n\u001B[32m--> \u001B[39m\u001B[32m249\u001B[39m     process = \u001B[38;5;28;01mawait\u001B[39;00m create_windows_process(command, args, env, errlog, cwd)\n\u001B[32m    250\u001B[39m \u001B[38;5;28;01melse\u001B[39;00m:\n\u001B[32m    251\u001B[39m     process = \u001B[38;5;28;01mawait\u001B[39;00m anyio.open_process(\n\u001B[32m    252\u001B[39m         [command, *args],\n\u001B[32m    253\u001B[39m         env=env,\n\u001B[32m   (...)\u001B[39m\u001B[32m    256\u001B[39m         start_new_session=\u001B[38;5;28;01mTrue\u001B[39;00m,\n\u001B[32m    257\u001B[39m     )\n",
      "\u001B[36mFile \u001B[39m\u001B[32m~\\repos\\personal_projects\\AI\\Agentic_AI_Projects\\openai_sdk_resume_assistant\\.venv\\Lib\\site-packages\\mcp\\os\\win32\\utilities.py:181\u001B[39m, in \u001B[36mcreate_windows_process\u001B[39m\u001B[34m(command, args, env, errlog, cwd)\u001B[39m\n\u001B[32m    169\u001B[39m     process = \u001B[38;5;28;01mawait\u001B[39;00m anyio.open_process(\n\u001B[32m    170\u001B[39m         [command, *args],\n\u001B[32m    171\u001B[39m         env=env,\n\u001B[32m   (...)\u001B[39m\u001B[32m    177\u001B[39m         cwd=cwd,\n\u001B[32m    178\u001B[39m     )\n\u001B[32m    179\u001B[39m \u001B[38;5;28;01mexcept\u001B[39;00m \u001B[38;5;167;01mNotImplementedError\u001B[39;00m:\n\u001B[32m    180\u001B[39m     \u001B[38;5;66;03m# If Windows doesn't support async subprocess creation, use fallback\u001B[39;00m\n\u001B[32m--> \u001B[39m\u001B[32m181\u001B[39m     process = \u001B[38;5;28;01mawait\u001B[39;00m _create_windows_fallback_process(command, args, env, errlog, cwd)\n\u001B[32m    182\u001B[39m \u001B[38;5;28;01mexcept\u001B[39;00m \u001B[38;5;167;01mException\u001B[39;00m:\n\u001B[32m    183\u001B[39m     \u001B[38;5;66;03m# Try again without creation flags\u001B[39;00m\n\u001B[32m    184\u001B[39m     process = \u001B[38;5;28;01mawait\u001B[39;00m anyio.open_process(\n\u001B[32m    185\u001B[39m         [command, *args],\n\u001B[32m    186\u001B[39m         env=env,\n\u001B[32m    187\u001B[39m         stderr=errlog,\n\u001B[32m    188\u001B[39m         cwd=cwd,\n\u001B[32m    189\u001B[39m     )\n",
      "\u001B[36mFile \u001B[39m\u001B[32m~\\repos\\personal_projects\\AI\\Agentic_AI_Projects\\openai_sdk_resume_assistant\\.venv\\Lib\\site-packages\\mcp\\os\\win32\\utilities.py:221\u001B[39m, in \u001B[36m_create_windows_fallback_process\u001B[39m\u001B[34m(command, args, env, errlog, cwd)\u001B[39m\n\u001B[32m    209\u001B[39m     popen_obj = subprocess.Popen(\n\u001B[32m    210\u001B[39m         [command, *args],\n\u001B[32m    211\u001B[39m         stdin=subprocess.PIPE,\n\u001B[32m   (...)\u001B[39m\u001B[32m    217\u001B[39m         creationflags=\u001B[38;5;28mgetattr\u001B[39m(subprocess, \u001B[33m\"\u001B[39m\u001B[33mCREATE_NO_WINDOW\u001B[39m\u001B[33m\"\u001B[39m, \u001B[32m0\u001B[39m),\n\u001B[32m    218\u001B[39m     )\n\u001B[32m    219\u001B[39m \u001B[38;5;28;01mexcept\u001B[39;00m \u001B[38;5;167;01mException\u001B[39;00m:\n\u001B[32m    220\u001B[39m     \u001B[38;5;66;03m# If creationflags failed, fallback without them\u001B[39;00m\n\u001B[32m--> \u001B[39m\u001B[32m221\u001B[39m     popen_obj = \u001B[43msubprocess\u001B[49m\u001B[43m.\u001B[49m\u001B[43mPopen\u001B[49m\u001B[43m(\u001B[49m\n\u001B[32m    222\u001B[39m \u001B[43m        \u001B[49m\u001B[43m[\u001B[49m\u001B[43mcommand\u001B[49m\u001B[43m,\u001B[49m\u001B[43m \u001B[49m\u001B[43m*\u001B[49m\u001B[43margs\u001B[49m\u001B[43m]\u001B[49m\u001B[43m,\u001B[49m\n\u001B[32m    223\u001B[39m \u001B[43m        \u001B[49m\u001B[43mstdin\u001B[49m\u001B[43m=\u001B[49m\u001B[43msubprocess\u001B[49m\u001B[43m.\u001B[49m\u001B[43mPIPE\u001B[49m\u001B[43m,\u001B[49m\n\u001B[32m    224\u001B[39m \u001B[43m        \u001B[49m\u001B[43mstdout\u001B[49m\u001B[43m=\u001B[49m\u001B[43msubprocess\u001B[49m\u001B[43m.\u001B[49m\u001B[43mPIPE\u001B[49m\u001B[43m,\u001B[49m\n\u001B[32m    225\u001B[39m \u001B[43m        \u001B[49m\u001B[43mstderr\u001B[49m\u001B[43m=\u001B[49m\u001B[43merrlog\u001B[49m\u001B[43m,\u001B[49m\n\u001B[32m    226\u001B[39m \u001B[43m        \u001B[49m\u001B[43menv\u001B[49m\u001B[43m=\u001B[49m\u001B[43menv\u001B[49m\u001B[43m,\u001B[49m\n\u001B[32m    227\u001B[39m \u001B[43m        \u001B[49m\u001B[43mcwd\u001B[49m\u001B[43m=\u001B[49m\u001B[43mcwd\u001B[49m\u001B[43m,\u001B[49m\n\u001B[32m    228\u001B[39m \u001B[43m        \u001B[49m\u001B[43mbufsize\u001B[49m\u001B[43m=\u001B[49m\u001B[32;43m0\u001B[39;49m\u001B[43m,\u001B[49m\n\u001B[32m    229\u001B[39m \u001B[43m    \u001B[49m\u001B[43m)\u001B[49m\n\u001B[32m    230\u001B[39m \u001B[38;5;28;01mreturn\u001B[39;00m FallbackProcess(popen_obj)\n",
      "\u001B[36mFile \u001B[39m\u001B[32m~\\AppData\\Local\\Programs\\Python\\Python312\\Lib\\subprocess.py:992\u001B[39m, in \u001B[36mPopen.__init__\u001B[39m\u001B[34m(self, args, bufsize, executable, stdin, stdout, stderr, preexec_fn, close_fds, shell, cwd, env, universal_newlines, startupinfo, creationflags, restore_signals, start_new_session, pass_fds, user, group, extra_groups, encoding, errors, text, umask, pipesize, process_group)\u001B[39m\n\u001B[32m    973\u001B[39m         \u001B[38;5;28;01mraise\u001B[39;00m \u001B[38;5;167;01mValueError\u001B[39;00m(\u001B[33mf\u001B[39m\u001B[33m\"\u001B[39m\u001B[33mUser ID cannot be negative, got \u001B[39m\u001B[38;5;132;01m{\u001B[39;00muid\u001B[38;5;132;01m}\u001B[39;00m\u001B[33m\"\u001B[39m)\n\u001B[32m    975\u001B[39m \u001B[38;5;66;03m# Input and output objects. The general principle is like\u001B[39;00m\n\u001B[32m    976\u001B[39m \u001B[38;5;66;03m# this:\u001B[39;00m\n\u001B[32m    977\u001B[39m \u001B[38;5;66;03m#\u001B[39;00m\n\u001B[32m   (...)\u001B[39m\u001B[32m    987\u001B[39m \u001B[38;5;66;03m# are -1 when not using PIPEs. The child objects are -1\u001B[39;00m\n\u001B[32m    988\u001B[39m \u001B[38;5;66;03m# when not redirecting.\u001B[39;00m\n\u001B[32m    990\u001B[39m (p2cread, p2cwrite,\n\u001B[32m    991\u001B[39m  c2pread, c2pwrite,\n\u001B[32m--> \u001B[39m\u001B[32m992\u001B[39m  errread, errwrite) = \u001B[38;5;28;43mself\u001B[39;49m\u001B[43m.\u001B[49m\u001B[43m_get_handles\u001B[49m\u001B[43m(\u001B[49m\u001B[43mstdin\u001B[49m\u001B[43m,\u001B[49m\u001B[43m \u001B[49m\u001B[43mstdout\u001B[49m\u001B[43m,\u001B[49m\u001B[43m \u001B[49m\u001B[43mstderr\u001B[49m\u001B[43m)\u001B[49m\n\u001B[32m    994\u001B[39m \u001B[38;5;66;03m# From here on, raising exceptions may cause file descriptor leakage\u001B[39;00m\n\u001B[32m    995\u001B[39m \n\u001B[32m    996\u001B[39m \u001B[38;5;66;03m# We wrap OS handles *before* launching the child, otherwise a\u001B[39;00m\n\u001B[32m    997\u001B[39m \u001B[38;5;66;03m# quickly terminating child could make our fds unwrappable\u001B[39;00m\n\u001B[32m    998\u001B[39m \u001B[38;5;66;03m# (see #8458).\u001B[39;00m\n\u001B[32m   1000\u001B[39m \u001B[38;5;28;01mif\u001B[39;00m _mswindows:\n",
      "\u001B[36mFile \u001B[39m\u001B[32m~\\AppData\\Local\\Programs\\Python\\Python312\\Lib\\subprocess.py:1406\u001B[39m, in \u001B[36mPopen._get_handles\u001B[39m\u001B[34m(self, stdin, stdout, stderr)\u001B[39m\n\u001B[32m   1403\u001B[39m         errwrite = msvcrt.get_osfhandle(stderr)\n\u001B[32m   1404\u001B[39m     \u001B[38;5;28;01melse\u001B[39;00m:\n\u001B[32m   1405\u001B[39m         \u001B[38;5;66;03m# Assuming file-like object\u001B[39;00m\n\u001B[32m-> \u001B[39m\u001B[32m1406\u001B[39m         errwrite = msvcrt.get_osfhandle(\u001B[43mstderr\u001B[49m\u001B[43m.\u001B[49m\u001B[43mfileno\u001B[49m\u001B[43m(\u001B[49m\u001B[43m)\u001B[49m)\n\u001B[32m   1407\u001B[39m     errwrite = \u001B[38;5;28mself\u001B[39m._make_inheritable(errwrite)\n\u001B[32m   1409\u001B[39m \u001B[38;5;28;01mreturn\u001B[39;00m (p2cread, p2cwrite,\n\u001B[32m   1410\u001B[39m         c2pread, c2pwrite,\n\u001B[32m   1411\u001B[39m         errread, errwrite)\n",
      "\u001B[36mFile \u001B[39m\u001B[32m~\\repos\\personal_projects\\AI\\Agentic_AI_Projects\\openai_sdk_resume_assistant\\.venv\\Lib\\site-packages\\ipykernel\\iostream.py:371\u001B[39m, in \u001B[36mOutStream.fileno\u001B[39m\u001B[34m(self)\u001B[39m\n\u001B[32m    369\u001B[39m     \u001B[38;5;28;01mreturn\u001B[39;00m \u001B[38;5;28mself\u001B[39m._original_stdstream_copy\n\u001B[32m    370\u001B[39m msg = \u001B[33m\"\u001B[39m\u001B[33mfileno\u001B[39m\u001B[33m\"\u001B[39m\n\u001B[32m--> \u001B[39m\u001B[32m371\u001B[39m \u001B[38;5;28;01mraise\u001B[39;00m io.UnsupportedOperation(msg)\n",
      "\u001B[31mUnsupportedOperation\u001B[39m: fileno"
     ]
    }
   ],
   "execution_count": 6
  },
  {
   "cell_type": "code",
   "execution_count": 9,
   "id": "f1aaa0ed",
   "metadata": {},
   "outputs": [
    {
     "data": {
      "text/plain": [
       "'The pink pasta recipe has been successfully written to the file `pink_pasta.md`. You can find it in the `file_storage` directory. Enjoy making and savoring your delicious pink pasta!'"
      ]
     },
     "execution_count": 9,
     "metadata": {},
     "output_type": "execute_result"
    }
   ],
   "source": [
    "result"
   ]
  },
  {
   "cell_type": "code",
   "execution_count": null,
   "id": "d49bfb8c",
   "metadata": {},
   "outputs": [],
   "source": []
  },
  {
   "cell_type": "code",
   "execution_count": null,
   "id": "c0f92ecf",
   "metadata": {},
   "outputs": [],
   "source": []
  }
 ],
 "metadata": {
  "kernelspec": {
   "display_name": "openai-sdk-resume-assistant",
   "language": "python",
   "name": "python3"
  },
  "language_info": {
   "codemirror_mode": {
    "name": "ipython",
    "version": 3
   },
   "file_extension": ".py",
   "mimetype": "text/x-python",
   "name": "python",
   "nbconvert_exporter": "python",
   "pygments_lexer": "ipython3",
   "version": "3.12.3"
  }
 },
 "nbformat": 4,
 "nbformat_minor": 5
}
